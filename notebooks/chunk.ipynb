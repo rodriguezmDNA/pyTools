{
 "cells": [
  {
   "cell_type": "code",
   "execution_count": 1,
   "metadata": {
    "ExecuteTime": {
     "end_time": "2020-12-10T05:34:16.511970Z",
     "start_time": "2020-12-10T05:34:13.009406Z"
    }
   },
   "outputs": [],
   "source": [
    "import collections\n",
    "from multiprocessing import Pool\n",
    "import pandas as pd\n",
    "import numpy as np\n",
    "import time\n",
    "import os"
   ]
  },
  {
   "cell_type": "code",
   "execution_count": 2,
   "metadata": {
    "ExecuteTime": {
     "end_time": "2020-12-10T05:34:17.172257Z",
     "start_time": "2020-12-10T05:34:16.516484Z"
    }
   },
   "outputs": [
    {
     "name": "stdout",
     "output_type": "stream",
     "text": [
      "150\n"
     ]
    },
    {
     "data": {
      "text/html": [
       "<div>\n",
       "<style scoped>\n",
       "    .dataframe tbody tr th:only-of-type {\n",
       "        vertical-align: middle;\n",
       "    }\n",
       "\n",
       "    .dataframe tbody tr th {\n",
       "        vertical-align: top;\n",
       "    }\n",
       "\n",
       "    .dataframe thead th {\n",
       "        text-align: right;\n",
       "    }\n",
       "</style>\n",
       "<table border=\"1\" class=\"dataframe\">\n",
       "  <thead>\n",
       "    <tr style=\"text-align: right;\">\n",
       "      <th></th>\n",
       "      <th>index</th>\n",
       "      <th>sepal_length</th>\n",
       "      <th>sepal_width</th>\n",
       "      <th>petal_length</th>\n",
       "      <th>petal_width</th>\n",
       "      <th>species</th>\n",
       "    </tr>\n",
       "  </thead>\n",
       "  <tbody>\n",
       "    <tr>\n",
       "      <th>0</th>\n",
       "      <td>0</td>\n",
       "      <td>5.1</td>\n",
       "      <td>3.5</td>\n",
       "      <td>1.4</td>\n",
       "      <td>0.2</td>\n",
       "      <td>setosa</td>\n",
       "    </tr>\n",
       "    <tr>\n",
       "      <th>1</th>\n",
       "      <td>1</td>\n",
       "      <td>4.9</td>\n",
       "      <td>3.0</td>\n",
       "      <td>1.4</td>\n",
       "      <td>0.2</td>\n",
       "      <td>setosa</td>\n",
       "    </tr>\n",
       "    <tr>\n",
       "      <th>2</th>\n",
       "      <td>2</td>\n",
       "      <td>4.7</td>\n",
       "      <td>3.2</td>\n",
       "      <td>1.3</td>\n",
       "      <td>0.2</td>\n",
       "      <td>setosa</td>\n",
       "    </tr>\n",
       "    <tr>\n",
       "      <th>3</th>\n",
       "      <td>3</td>\n",
       "      <td>4.6</td>\n",
       "      <td>3.1</td>\n",
       "      <td>1.5</td>\n",
       "      <td>0.2</td>\n",
       "      <td>setosa</td>\n",
       "    </tr>\n",
       "    <tr>\n",
       "      <th>4</th>\n",
       "      <td>4</td>\n",
       "      <td>5.0</td>\n",
       "      <td>3.6</td>\n",
       "      <td>1.4</td>\n",
       "      <td>0.2</td>\n",
       "      <td>setosa</td>\n",
       "    </tr>\n",
       "  </tbody>\n",
       "</table>\n",
       "</div>"
      ],
      "text/plain": [
       "   index  sepal_length  sepal_width  petal_length  petal_width species\n",
       "0      0           5.1          3.5           1.4          0.2  setosa\n",
       "1      1           4.9          3.0           1.4          0.2  setosa\n",
       "2      2           4.7          3.2           1.3          0.2  setosa\n",
       "3      3           4.6          3.1           1.5          0.2  setosa\n",
       "4      4           5.0          3.6           1.4          0.2  setosa"
      ]
     },
     "execution_count": 2,
     "metadata": {},
     "output_type": "execute_result"
    }
   ],
   "source": [
    "data = pd.read_csv('https://gist.githubusercontent.com/curran/a08a1080b88344b0c8a7/raw/0e7a9b0a5d22642a06d3d5b9bcbad9890c8ee534/iris.csv')\n",
    "data.reset_index(inplace=True) #Use idx as identifier\n",
    "print(data.shape[0])\n",
    "data.head()"
   ]
  },
  {
   "cell_type": "code",
   "execution_count": 7,
   "metadata": {
    "ExecuteTime": {
     "end_time": "2020-12-09T02:14:54.200821Z",
     "start_time": "2020-12-09T02:14:54.198432Z"
    }
   },
   "outputs": [],
   "source": [
    "### Divide into chunks of equal size "
   ]
  },
  {
   "cell_type": "code",
   "execution_count": 8,
   "metadata": {
    "ExecuteTime": {
     "end_time": "2020-12-09T02:14:54.695210Z",
     "start_time": "2020-12-09T02:14:54.691010Z"
    }
   },
   "outputs": [],
   "source": [
    "## Define number of chunks\n",
    "n = 10"
   ]
  },
  {
   "cell_type": "code",
   "execution_count": 23,
   "metadata": {
    "ExecuteTime": {
     "end_time": "2020-12-09T02:18:23.554496Z",
     "start_time": "2020-12-09T02:18:23.546409Z"
    }
   },
   "outputs": [],
   "source": [
    "### Sequential implementation\n",
    "def getArea(x):\n",
    "    return {'ID':x.index,\n",
    "            'sepArea':x.sepal_length * x.sepal_width,\n",
    "            'petArea':x.petal_length * x.petal_width}\n",
    "\n",
    "def getAreaSlow(x,verbose=False):\n",
    "    if verbose: print(f'processing: {x.index}')\n",
    "    time.sleep(.01)\n",
    "    result = {'ID':x.index,\n",
    "            'sepArea':x.sepal_length * x.sepal_width,\n",
    "            'petArea':x.petal_length * x.petal_width}\n",
    "    if verbose: print(f'done with: {x.index}')\n",
    "    return result"
   ]
  },
  {
   "cell_type": "code",
   "execution_count": 9,
   "metadata": {
    "ExecuteTime": {
     "end_time": "2020-12-09T02:14:55.433009Z",
     "start_time": "2020-12-09T02:14:55.425009Z"
    }
   },
   "outputs": [],
   "source": [
    "def getIndices(data,n):\n",
    "    dataSize = range(data.shape[0])\n",
    "    chunksIdx = np.array_split(dataSize, n)\n",
    "    return chunksIdx\n",
    "\n",
    "def getRanges(array):\n",
    "    return array[0],array[-1]\n",
    "\n",
    "def subsetChunks(iterable,idxArray,idx):\n",
    "    a,b = getRanges(idxArray[idx])\n",
    "    return iterable[a:b]"
   ]
  },
  {
   "cell_type": "code",
   "execution_count": 11,
   "metadata": {
    "ExecuteTime": {
     "end_time": "2020-12-09T02:14:59.107996Z",
     "start_time": "2020-12-09T02:14:59.104351Z"
    }
   },
   "outputs": [],
   "source": [
    "arrayIdxChunks = getIndices(data,n)"
   ]
  },
  {
   "cell_type": "code",
   "execution_count": 12,
   "metadata": {
    "ExecuteTime": {
     "end_time": "2020-12-09T02:14:59.482936Z",
     "start_time": "2020-12-09T02:14:59.477923Z"
    }
   },
   "outputs": [],
   "source": [
    "### Make iterable\n",
    "iterData = list(data.itertuples())"
   ]
  },
  {
   "cell_type": "code",
   "execution_count": 51,
   "metadata": {
    "ExecuteTime": {
     "end_time": "2020-12-09T02:29:21.209272Z",
     "start_time": "2020-12-09T02:29:21.205132Z"
    }
   },
   "outputs": [],
   "source": [
    "### Create a dictionary of iterable chunks\n",
    "chunkedIter = {_+1 : subsetChunks(iterData,arrayIdxChunks,_) for _ in range(len(arrayIdxChunks))}"
   ]
  },
  {
   "cell_type": "code",
   "execution_count": 52,
   "metadata": {
    "ExecuteTime": {
     "end_time": "2020-12-09T02:29:21.587209Z",
     "start_time": "2020-12-09T02:29:21.582750Z"
    }
   },
   "outputs": [],
   "source": [
    "### Create a dictionary of dataframe chunk\n",
    "chunkedDF = {_+1 : subsetChunks(data,arrayIdxChunks,_) for _ in range(len(arrayIdxChunks))}"
   ]
  },
  {
   "cell_type": "code",
   "execution_count": 96,
   "metadata": {
    "ExecuteTime": {
     "end_time": "2020-12-09T02:39:23.786954Z",
     "start_time": "2020-12-09T02:39:23.763771Z"
    },
    "scrolled": true
   },
   "outputs": [
    {
     "data": {
      "text/html": [
       "<div>\n",
       "<style scoped>\n",
       "    .dataframe tbody tr th:only-of-type {\n",
       "        vertical-align: middle;\n",
       "    }\n",
       "\n",
       "    .dataframe tbody tr th {\n",
       "        vertical-align: top;\n",
       "    }\n",
       "\n",
       "    .dataframe thead th {\n",
       "        text-align: right;\n",
       "    }\n",
       "</style>\n",
       "<table border=\"1\" class=\"dataframe\">\n",
       "  <thead>\n",
       "    <tr style=\"text-align: right;\">\n",
       "      <th></th>\n",
       "      <th>ID</th>\n",
       "      <th>sepArea</th>\n",
       "      <th>petArea</th>\n",
       "    </tr>\n",
       "  </thead>\n",
       "  <tbody>\n",
       "    <tr>\n",
       "      <th>0</th>\n",
       "      <td>0</td>\n",
       "      <td>17.85</td>\n",
       "      <td>0.28</td>\n",
       "    </tr>\n",
       "    <tr>\n",
       "      <th>1</th>\n",
       "      <td>1</td>\n",
       "      <td>14.70</td>\n",
       "      <td>0.28</td>\n",
       "    </tr>\n",
       "    <tr>\n",
       "      <th>2</th>\n",
       "      <td>2</td>\n",
       "      <td>15.04</td>\n",
       "      <td>0.26</td>\n",
       "    </tr>\n",
       "    <tr>\n",
       "      <th>3</th>\n",
       "      <td>3</td>\n",
       "      <td>14.26</td>\n",
       "      <td>0.30</td>\n",
       "    </tr>\n",
       "    <tr>\n",
       "      <th>4</th>\n",
       "      <td>4</td>\n",
       "      <td>18.00</td>\n",
       "      <td>0.28</td>\n",
       "    </tr>\n",
       "    <tr>\n",
       "      <th>...</th>\n",
       "      <td>...</td>\n",
       "      <td>...</td>\n",
       "      <td>...</td>\n",
       "    </tr>\n",
       "    <tr>\n",
       "      <th>145</th>\n",
       "      <td>145</td>\n",
       "      <td>20.10</td>\n",
       "      <td>11.96</td>\n",
       "    </tr>\n",
       "    <tr>\n",
       "      <th>146</th>\n",
       "      <td>146</td>\n",
       "      <td>15.75</td>\n",
       "      <td>9.50</td>\n",
       "    </tr>\n",
       "    <tr>\n",
       "      <th>147</th>\n",
       "      <td>147</td>\n",
       "      <td>19.50</td>\n",
       "      <td>10.40</td>\n",
       "    </tr>\n",
       "    <tr>\n",
       "      <th>148</th>\n",
       "      <td>148</td>\n",
       "      <td>21.08</td>\n",
       "      <td>12.42</td>\n",
       "    </tr>\n",
       "    <tr>\n",
       "      <th>149</th>\n",
       "      <td>149</td>\n",
       "      <td>17.70</td>\n",
       "      <td>9.18</td>\n",
       "    </tr>\n",
       "  </tbody>\n",
       "</table>\n",
       "<p>150 rows × 3 columns</p>\n",
       "</div>"
      ],
      "text/plain": [
       "      ID  sepArea  petArea\n",
       "0      0    17.85     0.28\n",
       "1      1    14.70     0.28\n",
       "2      2    15.04     0.26\n",
       "3      3    14.26     0.30\n",
       "4      4    18.00     0.28\n",
       "..   ...      ...      ...\n",
       "145  145    20.10    11.96\n",
       "146  146    15.75     9.50\n",
       "147  147    19.50    10.40\n",
       "148  148    21.08    12.42\n",
       "149  149    17.70     9.18\n",
       "\n",
       "[150 rows x 3 columns]"
      ]
     },
     "execution_count": 96,
     "metadata": {},
     "output_type": "execute_result"
    }
   ],
   "source": [
    "pd.DataFrame(list(map(getArea,iterData)))"
   ]
  },
  {
   "cell_type": "code",
   "execution_count": 90,
   "metadata": {
    "ExecuteTime": {
     "end_time": "2020-12-09T02:36:08.453529Z",
     "start_time": "2020-12-09T02:36:08.429471Z"
    },
    "cell_style": "center"
   },
   "outputs": [],
   "source": [
    "#### Write tables\n",
    "for k,v in chunkedDF.items():\n",
    "    out = f'out_chunk_{k}.txt'\n",
    "    v.to_csv(out,sep=\"\\t\",columns=None,index=None)"
   ]
  },
  {
   "cell_type": "code",
   "execution_count": 136,
   "metadata": {
    "ExecuteTime": {
     "end_time": "2020-12-09T02:46:59.325462Z",
     "start_time": "2020-12-09T02:46:59.188259Z"
    }
   },
   "outputs": [
    {
     "name": "stdout",
     "output_type": "stream",
     "text": [
      "ID sepArea petArea\r\n",
      "/bin/sh: -n: command not found\r\n"
     ]
    }
   ],
   "source": [
    "!tail -n +2 out_chunk_1.txt | awk 'BEGIN {FS=\"\\t\"; print \"ID\",\"sepArea\",\"petArea\"} {print $1,$2*$3,$4*$5}'"
   ]
  },
  {
   "cell_type": "markdown",
   "metadata": {},
   "source": [
    "### Xargs"
   ]
  },
  {
   "cell_type": "code",
   "execution_count": 3,
   "metadata": {
    "ExecuteTime": {
     "end_time": "2020-12-10T05:35:16.257903Z",
     "start_time": "2020-12-10T05:35:16.241985Z"
    }
   },
   "outputs": [],
   "source": [
    "out = f'out_iris_full.txt'\n",
    "data.to_csv(out,sep==\"\\t\",columns=None,index=None)"
   ]
  },
  {
   "cell_type": "code",
   "execution_count": 4,
   "metadata": {
    "ExecuteTime": {
     "end_time": "2020-12-10T05:35:55.860839Z",
     "start_time": "2020-12-10T05:35:55.608359Z"
    }
   },
   "outputs": [],
   "source": [
    "!cat out_iris_full.txt | xargs ./test_xargs.sh"
   ]
  },
  {
   "cell_type": "code",
   "execution_count": null,
   "metadata": {},
   "outputs": [],
   "source": []
  }
 ],
 "metadata": {
  "kernelspec": {
   "display_name": "Python 3",
   "language": "python",
   "name": "python3"
  },
  "language_info": {
   "codemirror_mode": {
    "name": "ipython",
    "version": 3
   },
   "file_extension": ".py",
   "mimetype": "text/x-python",
   "name": "python",
   "nbconvert_exporter": "python",
   "pygments_lexer": "ipython3",
   "version": "3.7.9"
  },
  "varInspector": {
   "cols": {
    "lenName": 16,
    "lenType": 16,
    "lenVar": 40
   },
   "kernels_config": {
    "python": {
     "delete_cmd_postfix": "",
     "delete_cmd_prefix": "del ",
     "library": "var_list.py",
     "varRefreshCmd": "print(var_dic_list())"
    },
    "r": {
     "delete_cmd_postfix": ") ",
     "delete_cmd_prefix": "rm(",
     "library": "var_list.r",
     "varRefreshCmd": "cat(var_dic_list()) "
    }
   },
   "types_to_exclude": [
    "module",
    "function",
    "builtin_function_or_method",
    "instance",
    "_Feature"
   ],
   "window_display": false
  }
 },
 "nbformat": 4,
 "nbformat_minor": 4
}
