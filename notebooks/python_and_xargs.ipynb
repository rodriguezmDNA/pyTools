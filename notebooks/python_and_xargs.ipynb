{
 "cells": [
  {
   "cell_type": "markdown",
   "metadata": {},
   "source": [
    "#### Python and xargs"
   ]
  },
  {
   "cell_type": "markdown",
   "metadata": {},
   "source": [
    "From: https://gist.github.com/fasiha/89410ae4ea18a23cfcabda8c27225d58"
   ]
  },
  {
   "cell_type": "code",
   "execution_count": 2,
   "metadata": {
    "ExecuteTime": {
     "end_time": "2020-12-12T04:04:23.482392Z",
     "start_time": "2020-12-12T04:04:23.324320Z"
    }
   },
   "outputs": [
    {
     "name": "stdout",
     "output_type": "stream",
     "text": [
      "['../scripts/demoxargs.py', '10']\r\n",
      "11.0\r\n",
      "done\r\n"
     ]
    }
   ],
   "source": [
    "!python ../scripts/demoxargs.py 10"
   ]
  },
  {
   "cell_type": "code",
   "execution_count": 6,
   "metadata": {
    "ExecuteTime": {
     "end_time": "2020-12-12T04:06:42.173064Z",
     "start_time": "2020-12-12T04:06:42.013002Z"
    }
   },
   "outputs": [
    {
     "name": "stdout",
     "output_type": "stream",
     "text": [
      "['../scripts/demoxargs.py', '10', '2']\r\n",
      "12.0\r\n",
      "done\r\n"
     ]
    }
   ],
   "source": [
    "!python ../scripts/demoxargs.py 10 2"
   ]
  },
  {
   "cell_type": "code",
   "execution_count": 1,
   "metadata": {
    "ExecuteTime": {
     "end_time": "2020-12-13T20:13:05.782280Z",
     "start_time": "2020-12-13T20:13:05.641792Z"
    }
   },
   "outputs": [
    {
     "name": "stdout",
     "output_type": "stream",
     "text": [
      "-1\r\n",
      "-0.75\r\n",
      "-0.5\r\n",
      "-0.25\r\n",
      "0\r\n",
      "0.25\r\n",
      "0.5\r\n",
      "0.75\r\n",
      "1\r\n"
     ]
    }
   ],
   "source": [
    "!seq -1 0.25 1 "
   ]
  },
  {
   "cell_type": "code",
   "execution_count": 8,
   "metadata": {
    "ExecuteTime": {
     "end_time": "2020-12-12T04:07:01.798107Z",
     "start_time": "2020-12-12T04:07:01.529393Z"
    }
   },
   "outputs": [
    {
     "name": "stdout",
     "output_type": "stream",
     "text": [
      "['../scripts/demoxargs.py', '-1', '100']\n",
      "99.0\n",
      "done\n",
      "['../scripts/demoxargs.py', '-0.75', '100']\n",
      "99.25\n",
      "done\n",
      "['../scripts/demoxargs.py', '-0.5', '100']\n",
      "99.5\n",
      "done\n",
      "['../scripts/demoxargs.py', '-0.25', '100']\n",
      "99.75\n",
      "done\n",
      "['../scripts/demoxargs.py', '0', '100']\n",
      "100.0\n",
      "done\n",
      "['../scripts/demoxargs.py', '0.25', '100']\n",
      "100.25\n",
      "done\n",
      "['../scripts/demoxargs.py', '0.5', '100']\n",
      "100.5\n",
      "done\n",
      "['../scripts/demoxargs.py', '0.75', '100']\n",
      "100.75\n",
      "done\n",
      "['../scripts/demoxargs.py', '1', '100']\n",
      "101.0\n",
      "done\n"
     ]
    }
   ],
   "source": [
    "!seq -1 0.25 1 | xargs -I% -P2 -n1 python ../scripts/demoxargs.py % 100 "
   ]
  },
  {
   "cell_type": "code",
   "execution_count": null,
   "metadata": {},
   "outputs": [],
   "source": [
    "!seq -1 0.25 1 | xargs -I% -P2 -n1 python ../scripts/demoxargs.py % 100 > out.txt"
   ]
  },
  {
   "cell_type": "code",
   "execution_count": 8,
   "metadata": {
    "ExecuteTime": {
     "end_time": "2020-12-13T20:15:49.489405Z",
     "start_time": "2020-12-13T20:15:49.232284Z"
    }
   },
   "outputs": [],
   "source": [
    "!seq -1 0.25 1 | xargs -I% -P2 -n1 python ../scripts/demoxargs.py % > out.txt"
   ]
  },
  {
   "cell_type": "code",
   "execution_count": 4,
   "metadata": {
    "ExecuteTime": {
     "end_time": "2020-12-13T20:14:09.916708Z",
     "start_time": "2020-12-13T20:14:09.655639Z"
    }
   },
   "outputs": [],
   "source": [
    "!seq -1 0.25 1 | xargs -I% -P2 -n1 python ../scripts/demoxargs.py % > out.txt"
   ]
  },
  {
   "cell_type": "code",
   "execution_count": 9,
   "metadata": {
    "ExecuteTime": {
     "end_time": "2020-12-13T20:15:51.048491Z",
     "start_time": "2020-12-13T20:15:50.919596Z"
    }
   },
   "outputs": [
    {
     "name": "stdout",
     "output_type": "stream",
     "text": [
      "0.0\r\n",
      "done\r\n",
      "0.25\r\n",
      "done\r\n",
      "0.5\r\n",
      "done\r\n",
      "0.75\r\n",
      "done\r\n",
      "1.0\r\n",
      "done\r\n",
      "1.25\r\n",
      "done\r\n",
      "1.5\r\n",
      "done\r\n",
      "1.75\r\n",
      "done\r\n",
      "2.0\r\n",
      "done\r\n"
     ]
    }
   ],
   "source": [
    "!cat out.txt"
   ]
  },
  {
   "cell_type": "code",
   "execution_count": null,
   "metadata": {},
   "outputs": [],
   "source": []
  }
 ],
 "metadata": {
  "kernelspec": {
   "display_name": "Python 3",
   "language": "python",
   "name": "python3"
  },
  "language_info": {
   "codemirror_mode": {
    "name": "ipython",
    "version": 3
   },
   "file_extension": ".py",
   "mimetype": "text/x-python",
   "name": "python",
   "nbconvert_exporter": "python",
   "pygments_lexer": "ipython3",
   "version": "3.7.9"
  },
  "varInspector": {
   "cols": {
    "lenName": 16,
    "lenType": 16,
    "lenVar": 40
   },
   "kernels_config": {
    "python": {
     "delete_cmd_postfix": "",
     "delete_cmd_prefix": "del ",
     "library": "var_list.py",
     "varRefreshCmd": "print(var_dic_list())"
    },
    "r": {
     "delete_cmd_postfix": ") ",
     "delete_cmd_prefix": "rm(",
     "library": "var_list.r",
     "varRefreshCmd": "cat(var_dic_list()) "
    }
   },
   "types_to_exclude": [
    "module",
    "function",
    "builtin_function_or_method",
    "instance",
    "_Feature"
   ],
   "window_display": false
  }
 },
 "nbformat": 4,
 "nbformat_minor": 4
}
