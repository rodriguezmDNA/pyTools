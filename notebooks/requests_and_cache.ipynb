{
 "cells": [
  {
   "cell_type": "code",
   "execution_count": null,
   "metadata": {},
   "outputs": [],
   "source": [
    "### https://realpython.com/caching-external-api-requests/"
   ]
  },
  {
   "cell_type": "code",
   "execution_count": 169,
   "metadata": {
    "ExecuteTime": {
     "end_time": "2021-03-14T00:23:40.187036Z",
     "start_time": "2021-03-14T00:23:40.180630Z"
    }
   },
   "outputs": [],
   "source": [
    "import time\n",
    "import requests\n",
    "import pandas as pd\n",
    "import json"
   ]
  },
  {
   "cell_type": "code",
   "execution_count": 8,
   "metadata": {
    "ExecuteTime": {
     "end_time": "2021-03-13T17:43:19.287714Z",
     "start_time": "2021-03-13T17:43:19.283696Z"
    }
   },
   "outputs": [],
   "source": [
    "#### Define possible sources of classification\n",
    "CFurl = \"http://classyfire.wishartlab.com\"\n",
    "GNPSurl = 'https://gnps-classyfire.ucsd.edu'"
   ]
  },
  {
   "cell_type": "code",
   "execution_count": 44,
   "metadata": {
    "ExecuteTime": {
     "end_time": "2021-03-13T17:52:59.445338Z",
     "start_time": "2021-03-13T17:52:59.441377Z"
    }
   },
   "outputs": [],
   "source": [
    "validinchikey = 'ATUOYWHBWRKTHZ-UHFFFAOYSA-N' #Test case for a valid inchikey"
   ]
  },
  {
   "cell_type": "code",
   "execution_count": 3,
   "metadata": {
    "ExecuteTime": {
     "end_time": "2021-03-13T17:41:50.348763Z",
     "start_time": "2021-03-13T17:41:50.344877Z"
    }
   },
   "outputs": [],
   "source": [
    "return_format=\"json\" "
   ]
  },
  {
   "cell_type": "code",
   "execution_count": 183,
   "metadata": {
    "ExecuteTime": {
     "end_time": "2021-03-14T00:32:45.679910Z",
     "start_time": "2021-03-14T00:32:45.379922Z"
    }
   },
   "outputs": [
    {
     "name": "stdout",
     "output_type": "stream",
     "text": [
      "<Response [200]>\n"
     ]
    }
   ],
   "source": [
    "#### Make a request to the site\n",
    "r = requests.get('%s/entities/%s.%s' % (CFurl, validinchikey, return_format),\n",
    "                     headers={\"Content-Type\": \"application/%s\" % return_format})\n",
    "print(r) #200 if the inchikey is found\n",
    "#print(r.text)"
   ]
  },
  {
   "cell_type": "code",
   "execution_count": 46,
   "metadata": {
    "ExecuteTime": {
     "end_time": "2021-03-13T17:53:03.367991Z",
     "start_time": "2021-03-13T17:53:03.177684Z"
    }
   },
   "outputs": [
    {
     "name": "stdout",
     "output_type": "stream",
     "text": [
      "<Response [200]>\n"
     ]
    }
   ],
   "source": [
    "### Use the GNPS url\n",
    "r = requests.get('%s/entities/%s.%s' % (GNPSurl, validinchikey, return_format),\n",
    "                     headers={\"Content-Type\": \"application/%s\" % return_format})\n",
    "print(r)\n",
    "#print(r.text)"
   ]
  },
  {
   "cell_type": "code",
   "execution_count": 28,
   "metadata": {
    "ExecuteTime": {
     "end_time": "2021-03-13T17:48:55.911123Z",
     "start_time": "2021-03-13T17:48:55.867038Z"
    }
   },
   "outputs": [
    {
     "data": {
      "text/html": [
       "<div>\n",
       "<style scoped>\n",
       "    .dataframe tbody tr th:only-of-type {\n",
       "        vertical-align: middle;\n",
       "    }\n",
       "\n",
       "    .dataframe tbody tr th {\n",
       "        vertical-align: top;\n",
       "    }\n",
       "\n",
       "    .dataframe thead th {\n",
       "        text-align: right;\n",
       "    }\n",
       "</style>\n",
       "<table border=\"1\" class=\"dataframe\">\n",
       "  <thead>\n",
       "    <tr style=\"text-align: right;\">\n",
       "      <th></th>\n",
       "      <th>smiles</th>\n",
       "      <th>inchikey</th>\n",
       "      <th>intermediate_nodes</th>\n",
       "      <th>alternative_parents</th>\n",
       "      <th>molecular_framework</th>\n",
       "      <th>substituents</th>\n",
       "      <th>description</th>\n",
       "      <th>external_descriptors</th>\n",
       "      <th>ancestors</th>\n",
       "      <th>predicted_chebi_terms</th>\n",
       "      <th>...</th>\n",
       "      <th>class.chemont_id</th>\n",
       "      <th>class.url</th>\n",
       "      <th>subclass.name</th>\n",
       "      <th>subclass.description</th>\n",
       "      <th>subclass.chemont_id</th>\n",
       "      <th>subclass.url</th>\n",
       "      <th>direct_parent.name</th>\n",
       "      <th>direct_parent.description</th>\n",
       "      <th>direct_parent.chemont_id</th>\n",
       "      <th>direct_parent.url</th>\n",
       "    </tr>\n",
       "  </thead>\n",
       "  <tbody>\n",
       "    <tr>\n",
       "      <th>0</th>\n",
       "      <td>CCC</td>\n",
       "      <td>InChIKey=ATUOYWHBWRKTHZ-UHFFFAOYSA-N</td>\n",
       "      <td>[]</td>\n",
       "      <td>[]</td>\n",
       "      <td>Aliphatic acyclic compounds</td>\n",
       "      <td>[Acyclic alkane, Alkane, Aliphatic acyclic com...</td>\n",
       "      <td>This compound belongs to the class of organic ...</td>\n",
       "      <td>[{'source': 'CHEBI', 'source_id': 'CHEBI:32879...</td>\n",
       "      <td>[Alkanes, Chemical entities, Hydrocarbons, Org...</td>\n",
       "      <td>[alkane (CHEBI:18310), chemical entity (CHEBI:...</td>\n",
       "      <td>...</td>\n",
       "      <td>CHEMONTID:0004474</td>\n",
       "      <td>http://classyfire.wishartlab.com/tax_nodes/C00...</td>\n",
       "      <td>Alkanes</td>\n",
       "      <td>Acyclic branched or unbranched hydrocarbons ha...</td>\n",
       "      <td>CHEMONTID:0002500</td>\n",
       "      <td>http://classyfire.wishartlab.com/tax_nodes/C00...</td>\n",
       "      <td>Alkanes</td>\n",
       "      <td>Acyclic branched or unbranched hydrocarbons ha...</td>\n",
       "      <td>CHEMONTID:0002500</td>\n",
       "      <td>http://classyfire.wishartlab.com/tax_nodes/C00...</td>\n",
       "    </tr>\n",
       "  </tbody>\n",
       "</table>\n",
       "<p>1 rows × 32 columns</p>\n",
       "</div>"
      ],
      "text/plain": [
       "  smiles                              inchikey intermediate_nodes  \\\n",
       "0    CCC  InChIKey=ATUOYWHBWRKTHZ-UHFFFAOYSA-N                 []   \n",
       "\n",
       "  alternative_parents          molecular_framework  \\\n",
       "0                  []  Aliphatic acyclic compounds   \n",
       "\n",
       "                                        substituents  \\\n",
       "0  [Acyclic alkane, Alkane, Aliphatic acyclic com...   \n",
       "\n",
       "                                         description  \\\n",
       "0  This compound belongs to the class of organic ...   \n",
       "\n",
       "                                external_descriptors  \\\n",
       "0  [{'source': 'CHEBI', 'source_id': 'CHEBI:32879...   \n",
       "\n",
       "                                           ancestors  \\\n",
       "0  [Alkanes, Chemical entities, Hydrocarbons, Org...   \n",
       "\n",
       "                               predicted_chebi_terms  ...   class.chemont_id  \\\n",
       "0  [alkane (CHEBI:18310), chemical entity (CHEBI:...  ...  CHEMONTID:0004474   \n",
       "\n",
       "                                           class.url subclass.name  \\\n",
       "0  http://classyfire.wishartlab.com/tax_nodes/C00...       Alkanes   \n",
       "\n",
       "                                subclass.description subclass.chemont_id  \\\n",
       "0  Acyclic branched or unbranched hydrocarbons ha...   CHEMONTID:0002500   \n",
       "\n",
       "                                        subclass.url direct_parent.name  \\\n",
       "0  http://classyfire.wishartlab.com/tax_nodes/C00...            Alkanes   \n",
       "\n",
       "                           direct_parent.description direct_parent.chemont_id  \\\n",
       "0  Acyclic branched or unbranched hydrocarbons ha...        CHEMONTID:0002500   \n",
       "\n",
       "                                   direct_parent.url  \n",
       "0  http://classyfire.wishartlab.com/tax_nodes/C00...  \n",
       "\n",
       "[1 rows x 32 columns]"
      ]
     },
     "execution_count": 28,
     "metadata": {},
     "output_type": "execute_result"
    }
   ],
   "source": [
    "pd.json_normalize(json.loads(r.text)) #Convert output to DF"
   ]
  },
  {
   "cell_type": "markdown",
   "metadata": {},
   "source": [
    "## Write functions"
   ]
  },
  {
   "cell_type": "code",
   "execution_count": 189,
   "metadata": {
    "ExecuteTime": {
     "end_time": "2021-03-14T00:37:22.978927Z",
     "start_time": "2021-03-14T00:37:22.973151Z"
    }
   },
   "outputs": [],
   "source": [
    "def requestCF(inchikey,url=CFurl):\n",
    "    '''\n",
    "    Input: takes an inchikey\n",
    "    Optional: one of two URLs, Wishart lab (default, recommended) or GNPS\n",
    "    '''\n",
    "    resp = requests.get('%s/entities/%s.%s' % (url, inchikey, 'json'))\n",
    "    if resp.status_code == 200 and len(resp.text) > 2:\n",
    "        return resp.text\n",
    "    ## If not, None gets returned"
   ]
  },
  {
   "cell_type": "markdown",
   "metadata": {},
   "source": [
    "#### Test\n",
    "\n",
    "Some inchikeys are classified in the Wishart lab but not in GNPS"
   ]
  },
  {
   "cell_type": "code",
   "execution_count": 196,
   "metadata": {
    "ExecuteTime": {
     "end_time": "2021-03-14T00:38:50.771819Z",
     "start_time": "2021-03-14T00:38:50.759349Z"
    },
    "scrolled": true
   },
   "outputs": [
    {
     "data": {
      "text/plain": [
       "'{\"smiles\": \"CCC\", \"inchikey\": \"InChIKey=ATUOYWHBWRKTHZ-UHFFFAOYSA-N\", \"kingdom\": {\"name\": \"Organic compounds\", \"description\": \"Compounds that contain at least one carbon atom, excluding isocyanide/cyanide and their non-hydrocarbyl derivatives, thiophosgene, carbon diselenide, carbon monosulfide, carbon disulfide, carbon subsulfide, carbon monoxide, carbon dioxide, Carbon suboxide, and dicarbon monoxide.\", \"chemont_id\": \"CHEMONTID:0000000\", \"url\": \"http://classyfire.wishartlab.com/tax_nodes/C0000000\"}, \"superclass\": {\"name\": \"Hydrocarbons\", \"description\": \"Organic compounds made up only of carbon and hydrogen atoms.\", \"chemont_id\": \"CHEMONTID:0002837\", \"url\": \"http://classyfire.wishartlab.com/tax_nodes/C0002837\"}, \"class\": {\"name\": \"Saturated hydrocarbons\", \"description\": \"Hydrocarbons that contains only saturated carbon atoms, which are linked to one another through single bonds. These includes alkanes and cycloalkanes.\", \"chemont_id\": \"CHEMONTID:0004474\", \"url\": \"http://classyfire.wishartlab.com/tax_nodes/C0004474\"}, \"subclass\": {\"name\": \"Alkanes\", \"description\": \"Acyclic branched or unbranched hydrocarbons having the general formula CnH2n+2 , and therefore consisting entirely of hydrogen atoms and saturated carbon atoms.\", \"chemont_id\": \"CHEMONTID:0002500\", \"url\": \"http://classyfire.wishartlab.com/tax_nodes/C0002500\"}, \"intermediate_nodes\": [], \"direct_parent\": {\"name\": \"Alkanes\", \"description\": \"Acyclic branched or unbranched hydrocarbons having the general formula CnH2n+2 , and therefore consisting entirely of hydrogen atoms and saturated carbon atoms.\", \"chemont_id\": \"CHEMONTID:0002500\", \"url\": \"http://classyfire.wishartlab.com/tax_nodes/C0002500\"}, \"alternative_parents\": [], \"molecular_framework\": \"Aliphatic acyclic compounds\", \"substituents\": [\"Acyclic alkane\", \"Alkane\", \"Aliphatic acyclic compound\"], \"description\": \"This compound belongs to the class of organic compounds known as alkanes. These are acyclic branched or unbranched hydrocarbons having the general formula CnH2n+2 , and therefore consisting entirely of hydrogen atoms and saturated carbon atoms.\", \"external_descriptors\": [{\"source\": \"CHEBI\", \"source_id\": \"CHEBI:32879\", \"annotations\": [\"alkane\"]}], \"ancestors\": [\"Alkanes\", \"Chemical entities\", \"Hydrocarbons\", \"Organic compounds\", \"Saturated hydrocarbons\"], \"predicted_chebi_terms\": [\"alkane (CHEBI:18310)\", \"chemical entity (CHEBI:24431)\", \"organic molecule (CHEBI:72695)\", \"hydrocarbon (CHEBI:24632)\"], \"predicted_lipidmaps_terms\": [], \"classification_version\": \"2.1\"}'"
      ]
     },
     "execution_count": 196,
     "metadata": {},
     "output_type": "execute_result"
    }
   ],
   "source": [
    "requestCF(validinchikey,url=GNPSurl)"
   ]
  },
  {
   "cell_type": "code",
   "execution_count": 197,
   "metadata": {
    "ExecuteTime": {
     "end_time": "2021-03-14T00:38:57.405383Z",
     "start_time": "2021-03-14T00:38:57.393242Z"
    },
    "scrolled": true
   },
   "outputs": [
    {
     "data": {
      "text/plain": [
       "'{\"smiles\":\"CCC\",\"inchikey\":\"InChIKey=ATUOYWHBWRKTHZ-UHFFFAOYSA-N\",\"kingdom\":{\"name\":\"Organic compounds\",\"description\":\"Compounds that contain at least one carbon atom, excluding isocyanide/cyanide and their non-hydrocarbyl derivatives, thiophosgene, carbon diselenide, carbon monosulfide, carbon disulfide, carbon subsulfide, carbon monoxide, carbon dioxide, Carbon suboxide, and dicarbon monoxide.\",\"chemont_id\":\"CHEMONTID:0000000\",\"url\":\"http://classyfire.wishartlab.com/tax_nodes/C0000000\"},\"superclass\":{\"name\":\"Hydrocarbons\",\"description\":\"Organic compounds made up only of carbon and hydrogen atoms.\",\"chemont_id\":\"CHEMONTID:0002837\",\"url\":\"http://classyfire.wishartlab.com/tax_nodes/C0002837\"},\"class\":{\"name\":\"Saturated hydrocarbons\",\"description\":\"Hydrocarbons that contains only saturated carbon atoms, which are linked to one another through single bonds. These includes alkanes and cycloalkanes.\",\"chemont_id\":\"CHEMONTID:0004474\",\"url\":\"http://classyfire.wishartlab.com/tax_nodes/C0004474\"},\"subclass\":{\"name\":\"Alkanes\",\"description\":\"Acyclic branched or unbranched hydrocarbons having the general formula CnH2n+2 , and therefore consisting entirely of hydrogen atoms and saturated carbon atoms.\",\"chemont_id\":\"CHEMONTID:0002500\",\"url\":\"http://classyfire.wishartlab.com/tax_nodes/C0002500\"},\"intermediate_nodes\":[],\"direct_parent\":{\"name\":\"Alkanes\",\"description\":\"Acyclic branched or unbranched hydrocarbons having the general formula CnH2n+2 , and therefore consisting entirely of hydrogen atoms and saturated carbon atoms.\",\"chemont_id\":\"CHEMONTID:0002500\",\"url\":\"http://classyfire.wishartlab.com/tax_nodes/C0002500\"},\"alternative_parents\":[],\"molecular_framework\":\"Aliphatic acyclic compounds\",\"substituents\":[\"Acyclic alkane\",\"Alkane\",\"Aliphatic acyclic compound\"],\"description\":\"This compound belongs to the class of organic compounds known as alkanes. These are acyclic branched or unbranched hydrocarbons having the general formula CnH2n+2 , and therefore consisting entirely of hydrogen atoms and saturated carbon atoms.\",\"external_descriptors\":[{\"source\":\"CHEBI\",\"source_id\":\"CHEBI:32879\",\"annotations\":[\"alkane\"]}],\"ancestors\":[\"Alkanes\",\"Chemical entities\",\"Hydrocarbons\",\"Organic compounds\",\"Saturated hydrocarbons\"],\"predicted_chebi_terms\":[\"alkane (CHEBI:18310)\",\"chemical entity (CHEBI:24431)\",\"organic molecule (CHEBI:72695)\",\"hydrocarbon (CHEBI:24632)\"],\"predicted_lipidmaps_terms\":[],\"classification_version\":\"2.1\"}'"
      ]
     },
     "execution_count": 197,
     "metadata": {},
     "output_type": "execute_result"
    }
   ],
   "source": [
    "requestCF(validinchikey,url=CFurl)"
   ]
  },
  {
   "cell_type": "markdown",
   "metadata": {},
   "source": [
    "#### Edge cases"
   ]
  },
  {
   "cell_type": "code",
   "execution_count": 198,
   "metadata": {
    "ExecuteTime": {
     "end_time": "2021-03-14T00:41:50.352990Z",
     "start_time": "2021-03-14T00:41:50.348576Z"
    }
   },
   "outputs": [],
   "source": [
    "cfinchikey = 'GNGSNCPQCZJNBI-VAYFVJFHSA-N' \n",
    "# Empty in GNPS but ok in Wishart lab\n",
    "#https://gnps-classyfire.ucsd.edu/entities/GNGSNCPQCZJNBI-VAYFVJFHSA-N.json\n",
    "#http://classyfire.wishartlab.com/entities/GNGSNCPQCZJNBI-VAYFVJFHSA-N.json"
   ]
  },
  {
   "cell_type": "code",
   "execution_count": 199,
   "metadata": {
    "ExecuteTime": {
     "end_time": "2021-03-14T00:41:50.490682Z",
     "start_time": "2021-03-14T00:41:50.483495Z"
    }
   },
   "outputs": [],
   "source": [
    "requestCF(cfinchikey,url=GNPSurl) #None gets returned"
   ]
  },
  {
   "cell_type": "code",
   "execution_count": 200,
   "metadata": {
    "ExecuteTime": {
     "end_time": "2021-03-14T00:41:50.794328Z",
     "start_time": "2021-03-14T00:41:50.771328Z"
    },
    "scrolled": true
   },
   "outputs": [
    {
     "data": {
      "text/plain": [
       "'{\"smiles\":\"COC(=O)CC[C@@H](C)[C@H]1C[C@@H](O)[C@H]2[C@@H]3[C@H](O)C[C@@H]4C[C@H](O)CC[C@]4(C)[C@H]3CC[C@]12C\",\"inchikey\":\"InChIKey=GNGSNCPQCZJNBI-VAYFVJFHSA-N\",\"kingdom\":{\"name\":\"Organic compounds\",\"description\":\"Compounds that contain at least one carbon atom, excluding isocyanide/cyanide and their non-hydrocarbyl derivatives, thiophosgene, carbon diselenide, carbon monosulfide, carbon disulfide, carbon subsulfide, carbon monoxide, carbon dioxide, Carbon suboxide, and dicarbon monoxide.\",\"chemont_id\":\"CHEMONTID:0000000\",\"url\":\"http://classyfire.wishartlab.com/tax_nodes/C0000000\"},\"superclass\":{\"name\":\"Lipids and lipid-like molecules\",\"description\":\"Fatty acids and their derivatives, and substances related biosynthetically or functionally to these compounds.\",\"chemont_id\":\"CHEMONTID:0000012\",\"url\":\"http://classyfire.wishartlab.com/tax_nodes/C0000012\"},\"class\":{\"name\":\"Steroids and steroid derivatives\",\"description\":\"Compounds based on the cyclopenta[a]phenanthrene carbon skeleton, partially or completely hydrogenated; there are usually methyl groups at C-10 and C-13, and often an alkyl group at C-17. By extension, one or more bond scissions, ring expansions and/or ring contractions of the skeleton may have occurred.\",\"chemont_id\":\"CHEMONTID:0000258\",\"url\":\"http://classyfire.wishartlab.com/tax_nodes/C0000258\"},\"subclass\":{\"name\":\"Bile acids, alcohols and derivatives\",\"description\":\"Organic compounds containing an alcohol or acid derivative of cholic acid.\",\"chemont_id\":\"CHEMONTID:0001445\",\"url\":\"http://classyfire.wishartlab.com/tax_nodes/C0001445\"},\"intermediate_nodes\":[{\"name\":\"Hydroxy bile acids, alcohols and derivatives\",\"description\":\"Bile acids, alcohols or derivatives bearing at least hydroxyl group.\",\"chemont_id\":\"CHEMONTID:0002194\",\"url\":\"http://classyfire.wishartlab.com/tax_nodes/C0002194\"}],\"direct_parent\":{\"name\":\"Trihydroxy bile acids, alcohols and derivatives\",\"description\":\"Prenol lipids structurally characterized by a bile acid or alcohol which bears three hydroxyl groups.\",\"chemont_id\":\"CHEMONTID:0001104\",\"url\":\"http://classyfire.wishartlab.com/tax_nodes/C0001104\"},\"alternative_parents\":[{\"name\":\"7-hydroxysteroids\",\"description\":\"Steroids carrying a hydroxyl group at the 7-position of the steroid backbone.\",\"chemont_id\":\"CHEMONTID:0003238\",\"url\":\"http://classyfire.wishartlab.com/tax_nodes/C0003238\"},{\"name\":\"3-alpha-hydroxysteroids\",\"description\":\"Steroids carrying a alpha-hydroxyl group at the 3-position of the steroid backbone.\",\"chemont_id\":\"CHEMONTID:0003232\",\"url\":\"http://classyfire.wishartlab.com/tax_nodes/C0003232\"},{\"name\":\"Fatty acid methyl esters\",\"description\":\"Compounds containing a fatty acid that is esterified with a methyl group. They have the general structure RC(=O)OR\\', where R=fatty aliphatic tail or organyl group and R\\'=methyl group.\",\"chemont_id\":\"CHEMONTID:0003417\",\"url\":\"http://classyfire.wishartlab.com/tax_nodes/C0003417\"},{\"name\":\"Methyl esters\",\"description\":\"Organic compounds containing a carboxyl group that is esterified with a methyl group. They have the general structure RC(=O)OR\\', where R=H or organyl group and R\\'=methyl group.\",\"chemont_id\":\"CHEMONTID:0003416\",\"url\":\"http://classyfire.wishartlab.com/tax_nodes/C0003416\"},{\"name\":\"Secondary alcohols\",\"description\":\"Compounds containing a secondary alcohol functional group, with the general structure HOC(R)(R\\') (R,R\\'=alkyl, aryl).\",\"chemont_id\":\"CHEMONTID:0001661\",\"url\":\"http://classyfire.wishartlab.com/tax_nodes/C0001661\"},{\"name\":\"Cyclic alcohols and derivatives\",\"description\":\"Organic compounds containing an aliphatic ring substituted with at least one hydroxyl group.\",\"chemont_id\":\"CHEMONTID:0001292\",\"url\":\"http://classyfire.wishartlab.com/tax_nodes/C0001292\"},{\"name\":\"Polyols\",\"description\":\"Organic compounds containing more than one hydroxyl groups.\",\"chemont_id\":\"CHEMONTID:0002286\",\"url\":\"http://classyfire.wishartlab.com/tax_nodes/C0002286\"},{\"name\":\"Monocarboxylic acids and derivatives\",\"description\":\"Carboxylic acids containing exactly one carboxyl groups.\",\"chemont_id\":\"CHEMONTID:0001137\",\"url\":\"http://classyfire.wishartlab.com/tax_nodes/C0001137\"},{\"name\":\"Organic oxides\",\"description\":\"Organic compounds containing an oxide group.\",\"chemont_id\":\"CHEMONTID:0003940\",\"url\":\"http://classyfire.wishartlab.com/tax_nodes/C0003940\"},{\"name\":\"Hydrocarbon derivatives\",\"description\":\"Derivatives of hydrocarbons obtained by substituting one or more carbon atoms by an heteroatom. They contain at least one carbon atom and heteroatom.\",\"chemont_id\":\"CHEMONTID:0004150\",\"url\":\"http://classyfire.wishartlab.com/tax_nodes/C0004150\"},{\"name\":\"Carbonyl compounds\",\"description\":\"Organic compounds containing a carbonyl group, with the general structure RC(=O)R\\', where R=organyl, R\\'=H, N, O, organyl group or halide group.\",\"chemont_id\":\"CHEMONTID:0001831\",\"url\":\"http://classyfire.wishartlab.com/tax_nodes/C0001831\"}],\"molecular_framework\":\"Aliphatic homopolycyclic compounds\",\"substituents\":[\"Trihydroxy bile acid, alcohol, or derivatives\",\"7-hydroxysteroid\",\"3-alpha-hydroxysteroid\",\"Hydroxysteroid\",\"15-hydroxysteroid\",\"3-hydroxysteroid\",\"Fatty acid methyl ester\",\"Fatty acid ester\",\"Fatty acyl\",\"Methyl ester\",\"Cyclic alcohol\",\"Secondary alcohol\",\"Carboxylic acid ester\",\"Polyol\",\"Monocarboxylic acid or derivatives\",\"Carboxylic acid derivative\",\"Organic oxygen compound\",\"Organic oxide\",\"Hydrocarbon derivative\",\"Organooxygen compound\",\"Carbonyl group\",\"Alcohol\",\"Aliphatic homopolycyclic compound\"],\"description\":\"This compound belongs to the class of organic compounds known as trihydroxy bile acids, alcohols and derivatives. These are prenol lipids structurally characterized by a bile acid or alcohol which bears three hydroxyl groups.\",\"external_descriptors\":[],\"ancestors\":[\"3-alpha-hydroxysteroids\",\"3-hydroxysteroids\",\"7-hydroxysteroids\",\"Alcohols and polyols\",\"Bile acids, alcohols and derivatives\",\"Carbonyl compounds\",\"Carboxylic acid derivatives\",\"Carboxylic acid esters\",\"Carboxylic acids and derivatives\",\"Chemical entities\",\"Cyclic alcohols and derivatives\",\"Fatty Acyls\",\"Fatty acid esters\",\"Fatty acid methyl esters\",\"Hydrocarbon derivatives\",\"Hydroxy bile acids, alcohols and derivatives\",\"Hydroxysteroids\",\"Lipids and lipid-like molecules\",\"Methyl esters\",\"Monocarboxylic acids and derivatives\",\"Organic acids and derivatives\",\"Organic compounds\",\"Organic oxides\",\"Organic oxygen compounds\",\"Organooxygen compounds\",\"Polyols\",\"Secondary alcohols\",\"Steroids and steroid derivatives\",\"Trihydroxy bile acids, alcohols and derivatives\"],\"predicted_chebi_terms\":[\"7-hydroxy steroid (CHEBI:36844)\",\"3alpha-hydroxy steroid (CHEBI:36835)\",\"fatty acid methyl ester (CHEBI:4986)\",\"carboxylic ester (CHEBI:33308)\",\"secondary alcohol (CHEBI:35681)\",\"organic hydroxy compound (CHEBI:33822)\",\"polyol (CHEBI:26191)\",\"carbonyl compound (CHEBI:36586)\",\"organic oxide (CHEBI:25701)\",\"organic molecule (CHEBI:72695)\",\"bile acid (CHEBI:3098)\",\"chemical entity (CHEBI:24431)\",\"lipid (CHEBI:18059)\",\"steroid (CHEBI:35341)\",\"hydroxy steroid (CHEBI:35350)\",\"3-hydroxy steroid (CHEBI:36834)\",\"organooxygen compound (CHEBI:36963)\",\"fatty acid ester (CHEBI:35748)\",\"oxygen molecular entity (CHEBI:25806)\",\"organic molecular entity (CHEBI:50860)\",\"alcohol (CHEBI:30879)\"],\"predicted_lipidmaps_terms\":[\"Sterol Lipids (ST)\",\"Fatty esters (FA07)\",\"Bile acids and derivatives (ST04)\",\"Fatty Acyls (FA)\"],\"classification_version\":\"2.1\"}'"
      ]
     },
     "execution_count": 200,
     "metadata": {},
     "output_type": "execute_result"
    }
   ],
   "source": [
    "requestCF(cfinchikey,url=CFurl) #"
   ]
  },
  {
   "cell_type": "code",
   "execution_count": 202,
   "metadata": {
    "ExecuteTime": {
     "end_time": "2021-03-14T00:43:00.219045Z",
     "start_time": "2021-03-14T00:43:00.213467Z"
    }
   },
   "outputs": [],
   "source": [
    "stereo='ZTQNGKJCDYUACE-OAHLLOKONA-N'\n",
    "nostereo = 'ZTQNGKJCDYUACE-UHFFFAOYSA-N' \n",
    "# Some keys are classified only with the second block changed"
   ]
  },
  {
   "cell_type": "code",
   "execution_count": 204,
   "metadata": {
    "ExecuteTime": {
     "end_time": "2021-03-14T00:43:30.530947Z",
     "start_time": "2021-03-14T00:43:30.089680Z"
    }
   },
   "outputs": [],
   "source": [
    "requestCF(stereo,url=GNPSurl) or requestCF(stereo,url=CFurl) #None gets returned#None gets returned"
   ]
  },
  {
   "cell_type": "code",
   "execution_count": 207,
   "metadata": {
    "ExecuteTime": {
     "end_time": "2021-03-14T00:43:48.336388Z",
     "start_time": "2021-03-14T00:43:48.136854Z"
    }
   },
   "outputs": [],
   "source": [
    "requestCF(nostereo,url=GNPSurl) #Second block of inchikey is different, no response in GNPS"
   ]
  },
  {
   "cell_type": "code",
   "execution_count": 208,
   "metadata": {
    "ExecuteTime": {
     "end_time": "2021-03-14T00:43:49.769871Z",
     "start_time": "2021-03-14T00:43:49.758140Z"
    },
    "scrolled": true
   },
   "outputs": [
    {
     "data": {
      "text/plain": [
       "'{\"smiles\":\"COC1=CC=C(CC2C3=CC(O)=C(OC)C=C3CC[N]2(C)[O-])C=C1O\",\"inchikey\":\"InChIKey=ZTQNGKJCDYUACE-UHFFFAOYSA-N\",\"kingdom\":{\"name\":\"Organic compounds\",\"description\":\"Compounds that contain at least one carbon atom, excluding isocyanide/cyanide and their non-hydrocarbyl derivatives, thiophosgene, carbon diselenide, carbon monosulfide, carbon disulfide, carbon subsulfide, carbon monoxide, carbon dioxide, Carbon suboxide, and dicarbon monoxide.\",\"chemont_id\":\"CHEMONTID:0000000\",\"url\":\"http://classyfire.wishartlab.com/tax_nodes/C0000000\"},\"superclass\":{\"name\":\"Organoheterocyclic compounds\",\"description\":\"Compounds containing a ring with least one carbon atom and one non-carbon atom.\",\"chemont_id\":\"CHEMONTID:0000002\",\"url\":\"http://classyfire.wishartlab.com/tax_nodes/C0000002\"},\"class\":{\"name\":\"Isoquinolines and derivatives\",\"description\":\"Aromatic polycyclic compounds containing an isoquinoline moiety, which consists of a benzene ring fused to a pyridine ring and forming benzo[c]pyridine.\",\"chemont_id\":\"CHEMONTID:0002566\",\"url\":\"http://classyfire.wishartlab.com/tax_nodes/C0002566\"},\"subclass\":{\"name\":\"Benzylisoquinolines\",\"description\":\"Organic compounds containing an isoquinoline to which a benzyl group is attached.\",\"chemont_id\":\"CHEMONTID:0000054\",\"url\":\"http://classyfire.wishartlab.com/tax_nodes/C0000054\"},\"intermediate_nodes\":[],\"direct_parent\":{\"name\":\"Benzylisoquinolines\",\"description\":\"Organic compounds containing an isoquinoline to which a benzyl group is attached.\",\"chemont_id\":\"CHEMONTID:0000054\",\"url\":\"http://classyfire.wishartlab.com/tax_nodes/C0000054\"},\"alternative_parents\":[{\"name\":\"Tetrahydroisoquinolines\",\"description\":\"Tetrahydrogenated isoquinoline derivatives.\",\"chemont_id\":\"CHEMONTID:0002955\",\"url\":\"http://classyfire.wishartlab.com/tax_nodes/C0002955\"},{\"name\":\"Methoxyphenols\",\"description\":\"Compounds containing a methoxy group attached to the benzene ring of a phenol moiety.\",\"chemont_id\":\"CHEMONTID:0000190\",\"url\":\"http://classyfire.wishartlab.com/tax_nodes/C0000190\"},{\"name\":\"Phenoxy compounds\",\"description\":\"Aromatic compounds contaning a phenoxy group.\",\"chemont_id\":\"CHEMONTID:0004742\",\"url\":\"http://classyfire.wishartlab.com/tax_nodes/C0004742\"},{\"name\":\"Methoxybenzenes\",\"description\":\"Organic aromatic compounds containing a monocyclic benzene moiety carrying exactly or one more methoxy groups.\",\"chemont_id\":\"CHEMONTID:0004113\",\"url\":\"http://classyfire.wishartlab.com/tax_nodes/C0004113\"},{\"name\":\"Anisoles\",\"description\":\"Organic compounds containing a methoxybenzene or a derivative thereof.\",\"chemont_id\":\"CHEMONTID:0000138\",\"url\":\"http://classyfire.wishartlab.com/tax_nodes/C0000138\"},{\"name\":\"Alkyl aryl ethers\",\"description\":\"Organic compounds containing the alkyl aryl ether functional group with the generic formula R-O-R\\' , where R is an alkyl group and R\\' is an aryl group.\",\"chemont_id\":\"CHEMONTID:0000128\",\"url\":\"http://classyfire.wishartlab.com/tax_nodes/C0000128\"},{\"name\":\"1-hydroxy-4-unsubstituted benzenoids\",\"description\":\"Phenols that are unsubstituted at the 4-position.\",\"chemont_id\":\"CHEMONTID:0004647\",\"url\":\"http://classyfire.wishartlab.com/tax_nodes/C0004647\"},{\"name\":\"1-hydroxy-2-unsubstituted benzenoids\",\"description\":\"Phenols that a unsubstituted at the 2-position.\",\"chemont_id\":\"CHEMONTID:0004646\",\"url\":\"http://classyfire.wishartlab.com/tax_nodes/C0004646\"},{\"name\":\"Azacyclic compounds\",\"description\":\"Organic compounds containing an heterocycle with at least one nitrogen atom and one carbon atom linked to each other.\",\"chemont_id\":\"CHEMONTID:0004139\",\"url\":\"http://classyfire.wishartlab.com/tax_nodes/C0004139\"},{\"name\":\"Organopnictogen compounds\",\"description\":\"Compounds containing a bond between carbon a pnictogen atom. Pnictogens are p-block element atoms that are in the group 15 of the periodic table.\",\"chemont_id\":\"CHEMONTID:0004557\",\"url\":\"http://classyfire.wishartlab.com/tax_nodes/C0004557\"},{\"name\":\"Organonitrogen compounds\",\"description\":\"Organic compounds containing a nitrogen atom.\",\"chemont_id\":\"CHEMONTID:0000278\",\"url\":\"http://classyfire.wishartlab.com/tax_nodes/C0000278\"},{\"name\":\"Organic oxides\",\"description\":\"Organic compounds containing an oxide group.\",\"chemont_id\":\"CHEMONTID:0003940\",\"url\":\"http://classyfire.wishartlab.com/tax_nodes/C0003940\"},{\"name\":\"Hydrocarbon derivatives\",\"description\":\"Derivatives of hydrocarbons obtained by substituting one or more carbon atoms by an heteroatom. They contain at least one carbon atom and heteroatom.\",\"chemont_id\":\"CHEMONTID:0004150\",\"url\":\"http://classyfire.wishartlab.com/tax_nodes/C0004150\"},{\"name\":\"Organic anions\",\"description\":\"Organic compounds that have a negative electric charge.\",\"chemont_id\":\"CHEMONTID:0003608\",\"url\":\"http://classyfire.wishartlab.com/tax_nodes/C0003608\"}],\"molecular_framework\":\"Aromatic heteropolycyclic compounds\",\"substituents\":[\"Benzylisoquinoline\",\"Tetrahydroisoquinoline\",\"Methoxyphenol\",\"Phenoxy compound\",\"Methoxybenzene\",\"Phenol ether\",\"Anisole\",\"1-hydroxy-4-unsubstituted benzenoid\",\"1-hydroxy-2-unsubstituted benzenoid\",\"Phenol\",\"Alkyl aryl ether\",\"Benzenoid\",\"Monocyclic benzene moiety\",\"Azacycle\",\"Ether\",\"Organic nitrogen compound\",\"Organic oxygen compound\",\"Organopnictogen compound\",\"Organic oxide\",\"Hydrocarbon derivative\",\"Organooxygen compound\",\"Organonitrogen compound\",\"Organic anion\",\"Aromatic heteropolycyclic compound\"],\"description\":\"This compound belongs to the class of organic compounds known as benzylisoquinolines. These are organic compounds containing an isoquinoline to which a benzyl group is attached.\",\"external_descriptors\":[],\"ancestors\":[\"1-hydroxy-2-unsubstituted benzenoids\",\"1-hydroxy-4-unsubstituted benzenoids\",\"Alkyl aryl ethers\",\"Anisoles\",\"Azacyclic compounds\",\"Benzene and substituted derivatives\",\"Benzenoids\",\"Benzylisoquinolines\",\"Chemical entities\",\"Ethers\",\"Hydrocarbon derivatives\",\"Isoquinolines and derivatives\",\"Methoxybenzenes\",\"Methoxyphenols\",\"Organic anions\",\"Organic compounds\",\"Organic nitrogen compounds\",\"Organic oxides\",\"Organic oxygen compounds\",\"Organoheterocyclic compounds\",\"Organonitrogen compounds\",\"Organooxygen compounds\",\"Organopnictogen compounds\",\"Phenol ethers\",\"Phenols\",\"Phenoxy compounds\",\"Tetrahydroisoquinolines\"],\"predicted_chebi_terms\":[\"isoquinolines (CHEBI:24922)\",\"methoxybenzene (CHEBI:51683)\",\"phenols (CHEBI:33853)\",\"benzenes (CHEBI:22712)\",\"aromatic ether (CHEBI:35618)\",\"organonitrogen heterocyclic compound (CHEBI:38101)\",\"pnictogen molecular entity (CHEBI:33302)\",\"organic molecular entity (CHEBI:50860)\",\"organonitrogen compound (CHEBI:35352)\",\"organic oxide (CHEBI:25701)\",\"organic molecule (CHEBI:72695)\",\"organic anion (CHEBI:25696)\",\"chemical entity (CHEBI:24431)\",\"organic heterocyclic compound (CHEBI:24532)\",\"benzenoid aromatic compound (CHEBI:33836)\",\"oxygen molecular entity (CHEBI:25806)\",\"organooxygen compound (CHEBI:36963)\",\"ether (CHEBI:25698)\",\"nitrogen molecular entity (CHEBI:51143)\"],\"predicted_lipidmaps_terms\":[],\"classification_version\":\"2.1\"}'"
      ]
     },
     "execution_count": 208,
     "metadata": {},
     "output_type": "execute_result"
    }
   ],
   "source": [
    "requestCF(nostereo,url=CFurl) #Classified in Wishart lab's database"
   ]
  },
  {
   "cell_type": "markdown",
   "metadata": {
    "ExecuteTime": {
     "end_time": "2021-03-13T18:00:22.169862Z",
     "start_time": "2021-03-13T18:00:22.164896Z"
    }
   },
   "source": [
    "# Caching requests "
   ]
  },
  {
   "cell_type": "code",
   "execution_count": 72,
   "metadata": {
    "ExecuteTime": {
     "end_time": "2021-03-13T18:09:38.050189Z",
     "start_time": "2021-03-13T18:09:38.046623Z"
    }
   },
   "outputs": [],
   "source": [
    "import requests_cache"
   ]
  },
  {
   "cell_type": "code",
   "execution_count": 73,
   "metadata": {
    "ExecuteTime": {
     "end_time": "2021-03-13T18:09:40.687163Z",
     "start_time": "2021-03-13T18:09:40.542607Z"
    }
   },
   "outputs": [
    {
     "name": "stdout",
     "output_type": "stream",
     "text": [
      "PyViz.ipynb                 pathosMultiprocessing.ipynb\r\n",
      "chunk.ipynb                 python_and_xargs.ipynb\r\n",
      "decorators.ipynb            requests_and_cache.ipynb\r\n",
      "errorHandling.ipynb         sns_custom_colors.ipynb\r\n",
      "ggplot_on_python.ipynb      temp-plot.html\r\n",
      "multiprocessing.ipynb       \u001b[1m\u001b[32mtest_xargs.sh\u001b[m\u001b[m\r\n"
     ]
    }
   ],
   "source": [
    "!ls "
   ]
  },
  {
   "cell_type": "code",
   "execution_count": 110,
   "metadata": {
    "ExecuteTime": {
     "end_time": "2021-03-13T18:21:59.228035Z",
     "start_time": "2021-03-13T18:21:59.224379Z"
    }
   },
   "outputs": [],
   "source": [
    "requests_cache.install_cache('classyfire_cache')"
   ]
  },
  {
   "cell_type": "code",
   "execution_count": 109,
   "metadata": {
    "ExecuteTime": {
     "end_time": "2021-03-13T18:21:47.450186Z",
     "start_time": "2021-03-13T18:21:47.237852Z"
    }
   },
   "outputs": [],
   "source": [
    "!open ."
   ]
  },
  {
   "cell_type": "code",
   "execution_count": 78,
   "metadata": {
    "ExecuteTime": {
     "end_time": "2021-03-13T18:10:52.062302Z",
     "start_time": "2021-03-13T18:10:51.769027Z"
    }
   },
   "outputs": [],
   "source": [
    "resp = requests.get('%s/entities/%s.%s' % (url, inchikey, return_format),\n",
    "                     headers={\"Content-Type\": \"application/%s\" % return_format})"
   ]
  },
  {
   "cell_type": "code",
   "execution_count": 82,
   "metadata": {
    "ExecuteTime": {
     "end_time": "2021-03-13T18:13:22.362697Z",
     "start_time": "2021-03-13T18:13:21.084841Z"
    }
   },
   "outputs": [
    {
     "name": "stdout",
     "output_type": "stream",
     "text": [
      "1.27s\n"
     ]
    }
   ],
   "source": [
    "s=time.time()\n",
    "for i in range(10):\n",
    "    requests.get('http://httpbin.org/delay/1')\n",
    "e=time.time()    \n",
    "print('{}s'.format(round(e-s,2)))"
   ]
  },
  {
   "cell_type": "code",
   "execution_count": 83,
   "metadata": {
    "ExecuteTime": {
     "end_time": "2021-03-13T18:13:28.334624Z",
     "start_time": "2021-03-13T18:13:28.285039Z"
    }
   },
   "outputs": [
    {
     "name": "stdout",
     "output_type": "stream",
     "text": [
      "0.05s\n"
     ]
    }
   ],
   "source": [
    "s=time.time()\n",
    "for i in range(10):\n",
    "    requests.get('http://httpbin.org/delay/1')\n",
    "e=time.time()    \n",
    "print('{}s'.format(round(e-s,2)))"
   ]
  },
  {
   "cell_type": "code",
   "execution_count": 104,
   "metadata": {
    "ExecuteTime": {
     "end_time": "2021-03-13T18:21:02.042855Z",
     "start_time": "2021-03-13T18:21:02.033815Z"
    }
   },
   "outputs": [],
   "source": [
    "#### List of inchikeys that had previously failed\n",
    "listIKs = [\n",
    "    'JTTGPCRBDUOCGG-DCYUTMKDSA-N',\n",
    "    'GNGSNCPQCZJNBI-VAYFVJFHSA-N',\n",
    "    'QNRIYEYAHVEGQJ-SWQVIYSDSA-N',\n",
    "    'FTOTVNJFGHCOCZ-ZOXBSTLDSA-N',\n",
    "    'MEYVIHRQCGHFDC-AKTDRNHWSA-N',\n",
    "    'SJBHFAAZLAILHS-XFOSWZMQNA-N',\n",
    "    'MWTIGLPPQBNUFP-RRHRGVEJNA-N',\n",
    "    'UXWZMQPNSYWAHX-VQUKNVSGSA-N',\n",
    "    'MGFJVMMIYCGBBF-DOLKRJOSNA-N',\n",
    "    'ZTQNGKJCDYUACE-OAHLLOKONA-N',\n",
    "    'QSJOEQXFYCTBSY-HDXKHDETNA-N',\n",
    "    'GKFNHDBVWFEZCJ-LQFNOIFHNA-N',\n",
    "    'JAKXTPZLQBSVBB-AEDMQFBUNA-N',\n",
    "    'OMFHIZTYMHFNIE-UHFFFAOYNA-N',\n",
    "    'LRPBAJOIJTWGMK-KDIZOZADNA-N',\n",
    "    'SVWBXNAUENUONE-LDLOPFEMNA-N',\n",
    "    'NEUKLKKOFRWHDB-AUCIZUAGSA-N',\n",
    "    'ZDRGKGZHXIWXJD-QJEXQQAGSA-N',\n",
    "    'XFFRLQGZYVVLQI-FAIXQHPJSA-N',\n",
    "    'FKJNKIIHHYXTFQ-SUNRTHERSA-N',\n",
    "    'JLZYFORTRUGDQW-YVCFFHMXSA-N',\n",
    "    'GBRCKWHNYQTJKH-NXHCNWFISA-N',\n",
    "    'XZOUIUJOUOGCSM-OLSVMMKASA-N']"
   ]
  },
  {
   "cell_type": "code",
   "execution_count": 167,
   "metadata": {
    "ExecuteTime": {
     "end_time": "2021-03-14T00:08:06.179893Z",
     "start_time": "2021-03-14T00:08:03.834398Z"
    }
   },
   "outputs": [
    {
     "name": "stdout",
     "output_type": "stream",
     "text": [
      "\n",
      " 9 elements in 2.34s\n"
     ]
    }
   ],
   "source": [
    "### Run this chunk without pre-installing the cache\n",
    "outReqsNew = dict()\n",
    "failed = list()\n",
    "s=time.time()\n",
    "for i in listIKs:\n",
    "    r = requestCF(i)\n",
    "    if r is not None:\n",
    "        outReqsNew[i] = r\n",
    "    else:\n",
    "        failed.append(i)\n",
    "e=time.time()    \n",
    "print('\\n {} elements in {}s'.format(len(outReqsNew),round(e-s,2)))"
   ]
  },
  {
   "cell_type": "code",
   "execution_count": 168,
   "metadata": {
    "ExecuteTime": {
     "end_time": "2021-03-14T00:08:11.157276Z",
     "start_time": "2021-03-14T00:08:11.152451Z"
    }
   },
   "outputs": [
    {
     "data": {
      "text/plain": [
       "['JTTGPCRBDUOCGG-DCYUTMKDSA-N',\n",
       " 'FTOTVNJFGHCOCZ-ZOXBSTLDSA-N',\n",
       " 'MEYVIHRQCGHFDC-AKTDRNHWSA-N',\n",
       " 'SJBHFAAZLAILHS-XFOSWZMQNA-N',\n",
       " 'MWTIGLPPQBNUFP-RRHRGVEJNA-N',\n",
       " 'UXWZMQPNSYWAHX-VQUKNVSGSA-N',\n",
       " 'MGFJVMMIYCGBBF-DOLKRJOSNA-N',\n",
       " 'ZTQNGKJCDYUACE-OAHLLOKONA-N',\n",
       " 'QSJOEQXFYCTBSY-HDXKHDETNA-N',\n",
       " 'GKFNHDBVWFEZCJ-LQFNOIFHNA-N',\n",
       " 'JAKXTPZLQBSVBB-AEDMQFBUNA-N',\n",
       " 'OMFHIZTYMHFNIE-UHFFFAOYNA-N',\n",
       " 'LRPBAJOIJTWGMK-KDIZOZADNA-N',\n",
       " 'SVWBXNAUENUONE-LDLOPFEMNA-N']"
      ]
     },
     "execution_count": 168,
     "metadata": {},
     "output_type": "execute_result"
    }
   ],
   "source": [
    "failed"
   ]
  },
  {
   "cell_type": "markdown",
   "metadata": {
    "ExecuteTime": {
     "end_time": "2021-03-13T18:22:23.485791Z",
     "start_time": "2021-03-13T18:22:23.481221Z"
    }
   },
   "source": [
    "Try again, the second time around it must be faster since the ones already visited are stored "
   ]
  },
  {
   "cell_type": "code",
   "execution_count": null,
   "metadata": {},
   "outputs": [],
   "source": [
    "requests_cache.install_cache('classyfire_cache')"
   ]
  },
  {
   "cell_type": "code",
   "execution_count": 127,
   "metadata": {
    "ExecuteTime": {
     "end_time": "2021-03-13T18:24:36.258448Z",
     "start_time": "2021-03-13T18:24:35.059238Z"
    }
   },
   "outputs": [
    {
     "name": "stdout",
     "output_type": "stream",
     "text": [
      "CPU times: user 3 µs, sys: 0 ns, total: 3 µs\n",
      "Wall time: 5.96 µs\n",
      "1.19s\n"
     ]
    }
   ],
   "source": [
    "%time\n",
    "outReqs1 = dict()\n",
    "s=time.time()\n",
    "for i in listIKs[0:10]:\n",
    "    outReqs[i] = requestCF(i)\n",
    "e=time.time()    \n",
    "print('{}s'.format(round(e-s,2)))"
   ]
  },
  {
   "cell_type": "code",
   "execution_count": 128,
   "metadata": {
    "ExecuteTime": {
     "end_time": "2021-03-13T18:24:39.268306Z",
     "start_time": "2021-03-13T18:24:38.091514Z"
    }
   },
   "outputs": [
    {
     "name": "stdout",
     "output_type": "stream",
     "text": [
      "CPU times: user 3 µs, sys: 1 µs, total: 4 µs\n",
      "Wall time: 8.82 µs\n",
      "1.17s\n"
     ]
    }
   ],
   "source": [
    "%time\n",
    "outReqs2 = dict()\n",
    "s=time.time()\n",
    "for i in listIKs[0:10]:\n",
    "    outReqs[i] = requestCF(i)\n",
    "e=time.time()    \n",
    "print('{}s'.format(round(e-s,2)))"
   ]
  },
  {
   "cell_type": "code",
   "execution_count": 130,
   "metadata": {
    "ExecuteTime": {
     "end_time": "2021-03-13T18:24:49.480982Z",
     "start_time": "2021-03-13T18:24:49.475570Z"
    }
   },
   "outputs": [
    {
     "data": {
      "text/plain": [
       "True"
      ]
     },
     "execution_count": 130,
     "metadata": {},
     "output_type": "execute_result"
    }
   ],
   "source": [
    "outReqsNew == outReqs1 == outReqs2"
   ]
  },
  {
   "cell_type": "code",
   "execution_count": 132,
   "metadata": {
    "ExecuteTime": {
     "end_time": "2021-03-13T23:30:04.347828Z",
     "start_time": "2021-03-13T23:30:04.342334Z"
    }
   },
   "outputs": [
    {
     "data": {
      "text/plain": [
       "'http://classyfire.wishartlab.com/entities/GNGSNCPQCZJNBI-VAYFVJFHSA-N.json'"
      ]
     },
     "execution_count": 132,
     "metadata": {},
     "output_type": "execute_result"
    }
   ],
   "source": [
    "'{}/entities/{}.{}'.format(url, inchikey, return_format)"
   ]
  },
  {
   "cell_type": "code",
   "execution_count": null,
   "metadata": {},
   "outputs": [],
   "source": [
    "requests.get('%s/entities/%s.%s' % (url, inchikey, return_format),\n",
    "                     headers={\"Content-Type\": \"application/%s\" % return_format})"
   ]
  },
  {
   "cell_type": "code",
   "execution_count": 134,
   "metadata": {
    "ExecuteTime": {
     "end_time": "2021-03-13T23:30:52.670531Z",
     "start_time": "2021-03-13T23:30:52.658470Z"
    }
   },
   "outputs": [],
   "source": [
    "r = requests.get('{}/entities/{}.{}'.format(url, inchikey, return_format))"
   ]
  },
  {
   "cell_type": "code",
   "execution_count": 136,
   "metadata": {
    "ExecuteTime": {
     "end_time": "2021-03-13T23:58:00.253871Z",
     "start_time": "2021-03-13T23:58:00.244586Z"
    }
   },
   "outputs": [
    {
     "data": {
      "text/plain": [
       "True"
      ]
     },
     "execution_count": 136,
     "metadata": {},
     "output_type": "execute_result"
    }
   ],
   "source": [
    "r.from_cache"
   ]
  },
  {
   "cell_type": "code",
   "execution_count": 139,
   "metadata": {
    "ExecuteTime": {
     "end_time": "2021-03-13T23:58:35.507239Z",
     "start_time": "2021-03-13T23:58:35.231745Z"
    }
   },
   "outputs": [],
   "source": [
    "r = requests.get('{}/entities/{}.{}'.format(url, 'ZTQNGKJCDYUACE-UHFFFAOYSA-N', return_format))"
   ]
  },
  {
   "cell_type": "code",
   "execution_count": 140,
   "metadata": {
    "ExecuteTime": {
     "end_time": "2021-03-13T23:58:35.627422Z",
     "start_time": "2021-03-13T23:58:35.623631Z"
    }
   },
   "outputs": [
    {
     "data": {
      "text/plain": [
       "False"
      ]
     },
     "execution_count": 140,
     "metadata": {},
     "output_type": "execute_result"
    }
   ],
   "source": [
    "r.from_cache"
   ]
  },
  {
   "cell_type": "markdown",
   "metadata": {},
   "source": [
    "### Try, except"
   ]
  },
  {
   "cell_type": "code",
   "execution_count": 220,
   "metadata": {
    "ExecuteTime": {
     "end_time": "2021-03-14T23:26:05.642257Z",
     "start_time": "2021-03-14T23:26:05.631345Z"
    }
   },
   "outputs": [
    {
     "ename": "SyntaxError",
     "evalue": "invalid syntax (<ipython-input-220-afa8b9d1f3c6>, line 14)",
     "output_type": "error",
     "traceback": [
      "\u001b[0;36m  File \u001b[0;32m\"<ipython-input-220-afa8b9d1f3c6>\"\u001b[0;36m, line \u001b[0;32m14\u001b[0m\n\u001b[0;31m    except\u001b[0m\n\u001b[0m         ^\u001b[0m\n\u001b[0;31mSyntaxError\u001b[0m\u001b[0;31m:\u001b[0m invalid syntax\n"
     ]
    }
   ],
   "source": [
    "def get_cf(inchikey,url,verbose=False):\n",
    "    '''\n",
    "    Modified from https://gitlab.unige.ch/Pierre-Marie.Allard/pybatchclassyfire/-/blob/master/pybatchclassyfire/pybatchclassyfire.py\n",
    "    Adds the original inchikey used to keep track of the molecules annotated.\n",
    "    '''\n",
    "    if verbose:\n",
    "        print(inchikey)\n",
    "    entity = None\n",
    "    try:\n",
    "        entity = requestCF(inchikey,url)\n",
    "    except KeyboardInterrupt:\n",
    "        raise\n",
    "    if entity is None:\n",
    "        except\n",
    "            new_inchi_no_stereo = inchikey.split(\"-\")[0] + \"-UHFFFAOYSA-N\"\n",
    "        try:\n",
    "            entity = requestCF(new_inchi_no_stereo,url)\n",
    "        except KeyboardInterrupt:\n",
    "            raise\n",
    "        except:\n",
    "            return entity\n",
    "    ### Added chunk: Returns the original inchikey used to keep track in case the second block was changed\n",
    "#     if entity != None:\n",
    "#         entity['original'] = inchikey\n",
    "    return entity\n"
   ]
  },
  {
   "cell_type": "code",
   "execution_count": 246,
   "metadata": {
    "ExecuteTime": {
     "end_time": "2021-03-14T23:32:46.292116Z",
     "start_time": "2021-03-14T23:32:46.286672Z"
    }
   },
   "outputs": [],
   "source": [
    "def requestCF(inchikey,url=CFurl):\n",
    "    '''\n",
    "    Input: takes an inchikey\n",
    "    Optional: one of two URLs, Wishart lab (default, recommended) or GNPS\n",
    "    '''\n",
    "    resp = requests.get('%s/entities/%s.%s' % (url, inchikey, 'json'))\n",
    "    return resp\n",
    "    ## If not, None gets returned"
   ]
  },
  {
   "cell_type": "code",
   "execution_count": 249,
   "metadata": {
    "ExecuteTime": {
     "end_time": "2021-03-14T23:33:22.256048Z",
     "start_time": "2021-03-14T23:33:22.047825Z"
    }
   },
   "outputs": [
    {
     "name": "stdout",
     "output_type": "stream",
     "text": [
      "not valid\n"
     ]
    }
   ],
   "source": [
    "try:\n",
    "    r = requestCF('ZTQNGKJCDYUACE-OAHLLOKONA-N',CFurl)\n",
    "    r.raise_for_status()\n",
    "except requests.exceptions.HTTPError as err:\n",
    "    print('not valid')"
   ]
  },
  {
   "cell_type": "code",
   "execution_count": 451,
   "metadata": {
    "ExecuteTime": {
     "end_time": "2021-03-15T01:32:31.774945Z",
     "start_time": "2021-03-15T01:32:31.759476Z"
    }
   },
   "outputs": [],
   "source": [
    "def getCF(inchikey): \n",
    "    '''\n",
    "    Handle exceptions\n",
    "    '''\n",
    "    new_inchi_no_stereo = inchikey.split(\"-\")[0] + \"-UHFFFAOYSA-N\"\n",
    "    try:\n",
    "        #print('CF original')\n",
    "        r = requestCF(inchikey,CFurl)\n",
    "        r.raise_for_status()\n",
    "    except requests.exceptions.HTTPError as err:\n",
    "        try:\n",
    "            #print('CF no stereo')            \n",
    "            r = requestCF(new_inchi_no_stereo,CFurl)\n",
    "            r.raise_for_status()\n",
    "        except requests.exceptions.HTTPError as err:\n",
    "            try:\n",
    "                #print('GNPS original')\n",
    "                r = requestCF(inchikey,GNPSurl)\n",
    "                r.raise_for_status()\n",
    "            except requests.exceptions.HTTPError as err:\n",
    "                try:\n",
    "                    #print('GNPS no stereo')            \n",
    "                    r = requestCF(new_inchi_no_stereo,GNPSurl)\n",
    "                    r.raise_for_status()\n",
    "                except requests.exceptions.HTTPError as err:\n",
    "                    r = None\n",
    "    except Exception: #Catch all\n",
    "        raise\n",
    "    return r\n",
    "#     except:\n",
    "#         try:\n",
    "#             r = requestCF(inchikey,GNPSurl)\n",
    "#             r.raise_for_status()\n",
    "#         except requests.exceptions.HTTPError as err:\n",
    "#             raise\n"
   ]
  },
  {
   "cell_type": "code",
   "execution_count": 437,
   "metadata": {
    "ExecuteTime": {
     "end_time": "2021-03-15T01:00:31.566528Z",
     "start_time": "2021-03-15T01:00:31.562910Z"
    }
   },
   "outputs": [],
   "source": [
    "def wrapResponses(inchikey):\n",
    "    '''\n",
    "    '''\n",
    "    cf = getCF(inchikey)\n",
    "    if cf is not None:\n",
    "        if len(cf.text) > 2:\n",
    "            out = json.loads(cf.text)\n",
    "            out['original'] = inchikey\n",
    "            return out"
   ]
  },
  {
   "cell_type": "code",
   "execution_count": 458,
   "metadata": {
    "ExecuteTime": {
     "end_time": "2021-03-15T03:58:13.604901Z",
     "start_time": "2021-03-15T03:58:07.861713Z"
    }
   },
   "outputs": [
    {
     "name": "stdout",
     "output_type": "stream",
     "text": [
      "23 in 5.72s\n"
     ]
    }
   ],
   "source": [
    "### Without cache\n",
    "s = time.time()\n",
    "getInchiKeys = list(map(wrapResponses,listIKs))\n",
    "e = time.time()\n",
    "print('{} in {}s'.format(len(getInchiKeys),round(e-s,2)))"
   ]
  },
  {
   "cell_type": "code",
   "execution_count": 449,
   "metadata": {
    "ExecuteTime": {
     "end_time": "2021-03-15T01:26:06.020014Z",
     "start_time": "2021-03-15T01:26:02.971961Z"
    }
   },
   "outputs": [
    {
     "name": "stdout",
     "output_type": "stream",
     "text": [
      "23 in 3.04s\n"
     ]
    }
   ],
   "source": [
    "### With cache\n",
    "s = time.time()\n",
    "getInchiKeys = list(map(wrapResponses,listIKs))\n",
    "e = time.time()\n",
    "print('{} in {}s'.format(len(getInchiKeys),round(e-s,2)))"
   ]
  },
  {
   "cell_type": "code",
   "execution_count": 443,
   "metadata": {
    "ExecuteTime": {
     "end_time": "2021-03-15T01:02:22.214369Z",
     "start_time": "2021-03-15T01:02:22.210198Z"
    }
   },
   "outputs": [],
   "source": [
    "classifiedIKs = list(filter(None, getInchiKeys))"
   ]
  },
  {
   "cell_type": "code",
   "execution_count": 445,
   "metadata": {
    "ExecuteTime": {
     "end_time": "2021-03-15T01:02:47.252620Z",
     "start_time": "2021-03-15T01:02:47.244563Z"
    }
   },
   "outputs": [],
   "source": [
    "test = requestCF('GNGSNCPQCZJNBI-VAYFVJFHSA-N',url=CFurl)"
   ]
  },
  {
   "cell_type": "code",
   "execution_count": 444,
   "metadata": {
    "ExecuteTime": {
     "end_time": "2021-03-15T01:02:25.214638Z",
     "start_time": "2021-03-15T01:02:25.030379Z"
    }
   },
   "outputs": [
    {
     "data": {
      "text/html": [
       "<div>\n",
       "<style scoped>\n",
       "    .dataframe tbody tr th:only-of-type {\n",
       "        vertical-align: middle;\n",
       "    }\n",
       "\n",
       "    .dataframe tbody tr th {\n",
       "        vertical-align: top;\n",
       "    }\n",
       "\n",
       "    .dataframe thead th {\n",
       "        text-align: right;\n",
       "    }\n",
       "</style>\n",
       "<table border=\"1\" class=\"dataframe\">\n",
       "  <thead>\n",
       "    <tr style=\"text-align: right;\">\n",
       "      <th></th>\n",
       "      <th>smiles</th>\n",
       "      <th>inchikey</th>\n",
       "      <th>kingdom</th>\n",
       "      <th>superclass</th>\n",
       "      <th>class</th>\n",
       "      <th>subclass</th>\n",
       "      <th>intermediate_nodes</th>\n",
       "      <th>direct_parent</th>\n",
       "      <th>alternative_parents</th>\n",
       "      <th>molecular_framework</th>\n",
       "      <th>substituents</th>\n",
       "      <th>description</th>\n",
       "      <th>external_descriptors</th>\n",
       "      <th>ancestors</th>\n",
       "      <th>predicted_chebi_terms</th>\n",
       "      <th>predicted_lipidmaps_terms</th>\n",
       "      <th>classification_version</th>\n",
       "      <th>original</th>\n",
       "    </tr>\n",
       "  </thead>\n",
       "  <tbody>\n",
       "    <tr>\n",
       "      <th>0</th>\n",
       "      <td>COC(=O)CC[C@@H](C)[C@H]1C[C@@H](O)[C@H]2[C@@H]...</td>\n",
       "      <td>InChIKey=GNGSNCPQCZJNBI-VAYFVJFHSA-N</td>\n",
       "      <td>{'name': 'Organic compounds', 'description': '...</td>\n",
       "      <td>{'name': 'Lipids and lipid-like molecules', 'd...</td>\n",
       "      <td>{'name': 'Steroids and steroid derivatives', '...</td>\n",
       "      <td>{'name': 'Bile acids, alcohols and derivatives...</td>\n",
       "      <td>[{'name': 'Hydroxy bile acids, alcohols and de...</td>\n",
       "      <td>{'name': 'Trihydroxy bile acids, alcohols and ...</td>\n",
       "      <td>[{'name': '7-hydroxysteroids', 'description': ...</td>\n",
       "      <td>Aliphatic homopolycyclic compounds</td>\n",
       "      <td>[Trihydroxy bile acid, alcohol, or derivatives...</td>\n",
       "      <td>This compound belongs to the class of organic ...</td>\n",
       "      <td>[]</td>\n",
       "      <td>[3-alpha-hydroxysteroids, 3-hydroxysteroids, 7...</td>\n",
       "      <td>[7-hydroxy steroid (CHEBI:36844), 3alpha-hydro...</td>\n",
       "      <td>[Sterol Lipids (ST), Fatty esters (FA07), Bile...</td>\n",
       "      <td>2.1</td>\n",
       "      <td>GNGSNCPQCZJNBI-VAYFVJFHSA-N</td>\n",
       "    </tr>\n",
       "    <tr>\n",
       "      <th>1</th>\n",
       "      <td>C[C@H](CCC(=O)NCCS(O)(=O)=O)[C@H]1CC[C@H]2[C@H...</td>\n",
       "      <td>InChIKey=QNRIYEYAHVEGQJ-SWQVIYSDSA-N</td>\n",
       "      <td>{'name': 'Organic compounds', 'description': '...</td>\n",
       "      <td>{'name': 'Lipids and lipid-like molecules', 'd...</td>\n",
       "      <td>{'name': 'Steroids and steroid derivatives', '...</td>\n",
       "      <td>{'name': 'Bile acids, alcohols and derivatives...</td>\n",
       "      <td>[]</td>\n",
       "      <td>{'name': 'Taurinated bile acids and derivative...</td>\n",
       "      <td>[{'name': 'Monohydroxy bile acids, alcohols an...</td>\n",
       "      <td>Aliphatic homopolycyclic compounds</td>\n",
       "      <td>[Taurinated bile acid, Monohydroxy bile acid, ...</td>\n",
       "      <td>This compound belongs to the class of organic ...</td>\n",
       "      <td>[]</td>\n",
       "      <td>[3-alpha-hydroxysteroids, 3-hydroxysteroids, 7...</td>\n",
       "      <td>[bile acid (CHEBI:3098), 7-oxo steroid (CHEBI:...</td>\n",
       "      <td>[Bile acids and derivatives (ST04), Sterol Lip...</td>\n",
       "      <td>2.1</td>\n",
       "      <td>QNRIYEYAHVEGQJ-SWQVIYSDSA-N</td>\n",
       "    </tr>\n",
       "    <tr>\n",
       "      <th>2</th>\n",
       "      <td>CC(CCC(=O)NC(CCCCN)C(O)=O)C1CCC2C3C(O)CC4CC(O)...</td>\n",
       "      <td>InChIKey=FTOTVNJFGHCOCZ-UHFFFAOYSA-N</td>\n",
       "      <td>{'name': 'Organic compounds', 'description': '...</td>\n",
       "      <td>{'name': 'Lipids and lipid-like molecules', 'd...</td>\n",
       "      <td>{'name': 'Steroids and steroid derivatives', '...</td>\n",
       "      <td>{'name': 'Bile acids, alcohols and derivatives...</td>\n",
       "      <td>[]</td>\n",
       "      <td>{'name': 'Glycinated bile acids and derivative...</td>\n",
       "      <td>[{'name': 'Trihydroxy bile acids, alcohols and...</td>\n",
       "      <td>Aliphatic homopolycyclic compounds</td>\n",
       "      <td>[Glycinated bile acid, Trihydroxy bile acid, a...</td>\n",
       "      <td>This compound belongs to the class of organic ...</td>\n",
       "      <td>[]</td>\n",
       "      <td>[12-hydroxysteroids, 3-hydroxysteroids, 7-hydr...</td>\n",
       "      <td>[bile acid (CHEBI:3098), 7-hydroxy steroid (CH...</td>\n",
       "      <td>[Bile acids and derivatives (ST04), Sterol Lip...</td>\n",
       "      <td>2.1</td>\n",
       "      <td>FTOTVNJFGHCOCZ-ZOXBSTLDSA-N</td>\n",
       "    </tr>\n",
       "    <tr>\n",
       "      <th>3</th>\n",
       "      <td>CC(CCCNCC(O)=O)C1CCC2C3CCC4CC(O)CCC4(C)C3CC(O)...</td>\n",
       "      <td>InChIKey=SJBHFAAZLAILHS-UHFFFAOYSA-N</td>\n",
       "      <td>{'name': 'Organic compounds', 'description': '...</td>\n",
       "      <td>{'name': 'Lipids and lipid-like molecules', 'd...</td>\n",
       "      <td>{'name': 'Steroids and steroid derivatives', '...</td>\n",
       "      <td>{'name': 'Azasteroids and derivatives', 'descr...</td>\n",
       "      <td>[]</td>\n",
       "      <td>{'name': '25-azasteroids and derivatives', 'de...</td>\n",
       "      <td>[{'name': '3-hydroxysteroids', 'description': ...</td>\n",
       "      <td>Aliphatic homopolycyclic compounds</td>\n",
       "      <td>[25-azasteroid, Hydroxysteroid, 12-hydroxyster...</td>\n",
       "      <td>This compound belongs to the class of organic ...</td>\n",
       "      <td>[]</td>\n",
       "      <td>[12-hydroxysteroids, 25-azasteroids and deriva...</td>\n",
       "      <td>[3-hydroxy steroid (CHEBI:36834), 12-hydroxy s...</td>\n",
       "      <td>[Sterol Lipids (ST)]</td>\n",
       "      <td>2.1</td>\n",
       "      <td>SJBHFAAZLAILHS-XFOSWZMQNA-N</td>\n",
       "    </tr>\n",
       "    <tr>\n",
       "      <th>4</th>\n",
       "      <td>CCCCCCCCCCCCCCCCOCC(COP([O-])(=O)OCC[N+](C)(C)...</td>\n",
       "      <td>InChIKey=MWTIGLPPQBNUFP-UHFFFAOYSA-N</td>\n",
       "      <td>{'name': 'Organic compounds', 'description': '...</td>\n",
       "      <td>{'name': 'Lipids and lipid-like molecules', 'd...</td>\n",
       "      <td>{'name': 'Glycerophospholipids', 'description'...</td>\n",
       "      <td>{'name': 'Glycerophosphocholines', 'descriptio...</td>\n",
       "      <td>[]</td>\n",
       "      <td>{'name': 'Dialkylglycerol-3-phosphocholines', ...</td>\n",
       "      <td>[{'name': 'Phosphocholines', 'description': 'C...</td>\n",
       "      <td>Aliphatic acyclic compounds</td>\n",
       "      <td>[Dialkylglycero-3-phosphocholine, Phosphocholi...</td>\n",
       "      <td>This compound belongs to the class of organic ...</td>\n",
       "      <td>[]</td>\n",
       "      <td>[Alkyl phosphates, Amines, Chemical entities, ...</td>\n",
       "      <td>[phosphocholines (CHEBI:36700), glycerol ether...</td>\n",
       "      <td>[Dialkylglycerophosphocholines (GP0104), Glyce...</td>\n",
       "      <td>2.1</td>\n",
       "      <td>MWTIGLPPQBNUFP-RRHRGVEJNA-N</td>\n",
       "    </tr>\n",
       "    <tr>\n",
       "      <th>5</th>\n",
       "      <td>CC(CCC(=O)NC(CC1=CNC2=CC=CC=C12)C(O)=O)C1CCC2C...</td>\n",
       "      <td>InChIKey=UXWZMQPNSYWAHX-UHFFFAOYSA-N</td>\n",
       "      <td>{'name': 'Organic compounds', 'description': '...</td>\n",
       "      <td>{'name': 'Lipids and lipid-like molecules', 'd...</td>\n",
       "      <td>{'name': 'Steroids and steroid derivatives', '...</td>\n",
       "      <td>{'name': 'Bile acids, alcohols and derivatives...</td>\n",
       "      <td>[]</td>\n",
       "      <td>{'name': 'Glycinated bile acids and derivative...</td>\n",
       "      <td>[{'name': 'Trihydroxy bile acids, alcohols and...</td>\n",
       "      <td>Aromatic heteropolycyclic compounds</td>\n",
       "      <td>[Glycinated bile acid, Trihydroxy bile acid, a...</td>\n",
       "      <td>This compound belongs to the class of organic ...</td>\n",
       "      <td>[]</td>\n",
       "      <td>[12-hydroxysteroids, 3-alkylindoles, 3-hydroxy...</td>\n",
       "      <td>[bile acid (CHEBI:3098), 7-hydroxy steroid (CH...</td>\n",
       "      <td>[Bile acids and derivatives (ST04), Sterol Lip...</td>\n",
       "      <td>2.1</td>\n",
       "      <td>UXWZMQPNSYWAHX-VQUKNVSGSA-N</td>\n",
       "    </tr>\n",
       "    <tr>\n",
       "      <th>6</th>\n",
       "      <td>[Fe].CC(O)N(O)CCCC1NC(=O)C(CCCN(O)C(C)O)NC(=O)...</td>\n",
       "      <td>InChIKey=MGFJVMMIYCGBBF-UHFFFAOYSA-N</td>\n",
       "      <td>{'name': 'Organic compounds', 'description': '...</td>\n",
       "      <td>{'name': 'Organic acids and derivatives', 'des...</td>\n",
       "      <td>{'name': 'Carboxylic acids and derivatives', '...</td>\n",
       "      <td>{'name': 'Amino acids, peptides, and analogues...</td>\n",
       "      <td>[{'name': 'Peptides', 'description': 'Compound...</td>\n",
       "      <td>{'name': 'Oligopeptides', 'description': 'Orga...</td>\n",
       "      <td>[{'name': 'Cyclic peptides', 'description': 'C...</td>\n",
       "      <td>Aliphatic heteromonocyclic compounds</td>\n",
       "      <td>[Alpha-oligopeptide, Cyclic alpha peptide, Mac...</td>\n",
       "      <td>This compound belongs to the class of organic ...</td>\n",
       "      <td>[]</td>\n",
       "      <td>[Alkanolamines, Alpha amino acids and derivati...</td>\n",
       "      <td>[cyclic peptide (CHEBI:23449), azamacrocycle (...</td>\n",
       "      <td>[]</td>\n",
       "      <td>2.1</td>\n",
       "      <td>MGFJVMMIYCGBBF-DOLKRJOSNA-N</td>\n",
       "    </tr>\n",
       "    <tr>\n",
       "      <th>7</th>\n",
       "      <td>COC1=CC=C(CC2C3=CC(O)=C(OC)C=C3CC[N]2(C)[O-])C...</td>\n",
       "      <td>InChIKey=ZTQNGKJCDYUACE-UHFFFAOYSA-N</td>\n",
       "      <td>{'name': 'Organic compounds', 'description': '...</td>\n",
       "      <td>{'name': 'Organoheterocyclic compounds', 'desc...</td>\n",
       "      <td>{'name': 'Isoquinolines and derivatives', 'des...</td>\n",
       "      <td>{'name': 'Benzylisoquinolines', 'description':...</td>\n",
       "      <td>[]</td>\n",
       "      <td>{'name': 'Benzylisoquinolines', 'description':...</td>\n",
       "      <td>[{'name': 'Tetrahydroisoquinolines', 'descript...</td>\n",
       "      <td>Aromatic heteropolycyclic compounds</td>\n",
       "      <td>[Benzylisoquinoline, Tetrahydroisoquinoline, M...</td>\n",
       "      <td>This compound belongs to the class of organic ...</td>\n",
       "      <td>[]</td>\n",
       "      <td>[1-hydroxy-2-unsubstituted benzenoids, 1-hydro...</td>\n",
       "      <td>[isoquinolines (CHEBI:24922), methoxybenzene (...</td>\n",
       "      <td>[]</td>\n",
       "      <td>2.1</td>\n",
       "      <td>ZTQNGKJCDYUACE-OAHLLOKONA-N</td>\n",
       "    </tr>\n",
       "    <tr>\n",
       "      <th>8</th>\n",
       "      <td>CC1OC(=NC1C(=O)NCCCNC(=O)c1cccc(O)c1O)c1cccc(O...</td>\n",
       "      <td>InChIKey=QSJOEQXFYCTBSY-UHFFFAOYSA-N</td>\n",
       "      <td>{'name': 'Organic compounds', 'description': '...</td>\n",
       "      <td>{'name': 'Benzenoids', 'description': 'Aromati...</td>\n",
       "      <td>{'name': 'Benzene and substituted derivatives'...</td>\n",
       "      <td>{'name': 'Benzoic acids and derivatives', 'des...</td>\n",
       "      <td>[{'name': 'Hydroxybenzoic acid derivatives', '...</td>\n",
       "      <td>{'name': 'Salicylamides', 'description': 'Carb...</td>\n",
       "      <td>[{'name': 'Alpha amino acids and derivatives',...</td>\n",
       "      <td>Aromatic heteromonocyclic compounds</td>\n",
       "      <td>[Alpha-amino acid or derivatives, Salicylamide...</td>\n",
       "      <td>This compound belongs to the class of organic ...</td>\n",
       "      <td>[]</td>\n",
       "      <td>[1-hydroxy-2-unsubstituted benzenoids, 1-hydro...</td>\n",
       "      <td>[organonitrogen compound (CHEBI:35352), organo...</td>\n",
       "      <td>[]</td>\n",
       "      <td>2.1</td>\n",
       "      <td>QSJOEQXFYCTBSY-HDXKHDETNA-N</td>\n",
       "    </tr>\n",
       "    <tr>\n",
       "      <th>9</th>\n",
       "      <td>CC1=CC2=C(OC(=N2)C2=CC(NC(=O)C3=C(Cl)C(Cl)=CC=...</td>\n",
       "      <td>InChIKey=GKFNHDBVWFEZCJ-UHFFFAOYSA-N</td>\n",
       "      <td>{'name': 'Organic compounds', 'description': '...</td>\n",
       "      <td>{'name': 'Benzenoids', 'description': 'Aromati...</td>\n",
       "      <td>{'name': 'Benzene and substituted derivatives'...</td>\n",
       "      <td>{'name': 'Anilides', 'description': 'Organic h...</td>\n",
       "      <td>[{'name': 'Aromatic anilides', 'description': ...</td>\n",
       "      <td>{'name': 'Benzanilides', 'description': 'Aroma...</td>\n",
       "      <td>[{'name': 'Phenyl-1,3-oxazoles', 'description'...</td>\n",
       "      <td>Aromatic heteropolycyclic compounds</td>\n",
       "      <td>[Benzanilide, Phenyl-1,3-oxazole, 2-halobenzoi...</td>\n",
       "      <td>This compound belongs to the class of organic ...</td>\n",
       "      <td>[]</td>\n",
       "      <td>[2-halobenzoic acids and derivatives, 3-halobe...</td>\n",
       "      <td>[benzenes (CHEBI:22712), oxazole (CHEBI:35790)...</td>\n",
       "      <td>[]</td>\n",
       "      <td>2.1</td>\n",
       "      <td>GKFNHDBVWFEZCJ-LQFNOIFHNA-N</td>\n",
       "    </tr>\n",
       "    <tr>\n",
       "      <th>10</th>\n",
       "      <td>[H]OC(=NC([H])(C(O[H])=NC1([H])C(O[H])=NC([H])...</td>\n",
       "      <td>InChIKey=JAKXTPZLQBSVBB-UHFFFAOYSA-N</td>\n",
       "      <td>{'name': 'Organic compounds', 'description': '...</td>\n",
       "      <td>{'name': 'Organic acids and derivatives', 'des...</td>\n",
       "      <td>{'name': 'Peptidomimetics', 'description': 'Co...</td>\n",
       "      <td>{'name': 'Depsipeptides', 'description': 'Natu...</td>\n",
       "      <td>[]</td>\n",
       "      <td>{'name': 'Cyclic depsipeptides', 'description'...</td>\n",
       "      <td>[{'name': 'Macrolide lactams', 'description': ...</td>\n",
       "      <td>Aliphatic heteromonocyclic compounds</td>\n",
       "      <td>[Cyclic depsipeptide, Macrolide lactam, Macrol...</td>\n",
       "      <td>This compound belongs to the class of organic ...</td>\n",
       "      <td>[]</td>\n",
       "      <td>[Alcohols and polyols, Alkanesulfonic acids, A...</td>\n",
       "      <td>[lactam (CHEBI:24995), macrolide (CHEBI:25106)...</td>\n",
       "      <td>[]</td>\n",
       "      <td>2.1</td>\n",
       "      <td>JAKXTPZLQBSVBB-AEDMQFBUNA-N</td>\n",
       "    </tr>\n",
       "    <tr>\n",
       "      <th>11</th>\n",
       "      <td>CCCCCCCCCCCCCCCCOC(COC(=O)CCCCCCCCCCCCCCC)COP(...</td>\n",
       "      <td>InChIKey=SVWBXNAUENUONE-UHFFFAOYSA-N</td>\n",
       "      <td>{'name': 'Organic compounds', 'description': '...</td>\n",
       "      <td>{'name': 'Lipids and lipid-like molecules', 'd...</td>\n",
       "      <td>{'name': 'Glycerophospholipids', 'description'...</td>\n",
       "      <td>{'name': 'Glycerophosphocholines', 'descriptio...</td>\n",
       "      <td>[]</td>\n",
       "      <td>{'name': '1-acyl,2-alkylglycero-3-phosphocholi...</td>\n",
       "      <td>[{'name': 'Phosphocholines', 'description': 'C...</td>\n",
       "      <td>Aliphatic acyclic compounds</td>\n",
       "      <td>[1-acyl,2-alkylglycero-3-phosphocholine, Phosp...</td>\n",
       "      <td>This compound belongs to the class of organic ...</td>\n",
       "      <td>[]</td>\n",
       "      <td>[1-acyl,2-alkylglycero-3-phosphocholines, Alky...</td>\n",
       "      <td>[phosphocholines (CHEBI:36700), glycerol ether...</td>\n",
       "      <td>[Fatty esters (FA07), Glycerophosphocholines (...</td>\n",
       "      <td>2.1</td>\n",
       "      <td>SVWBXNAUENUONE-LDLOPFEMNA-N</td>\n",
       "    </tr>\n",
       "    <tr>\n",
       "      <th>12</th>\n",
       "      <td>CCCCCCCCCCCCCC(=O)OC[C@@H](COC(=O)CCCCCCCCC\\C=...</td>\n",
       "      <td>InChIKey=NEUKLKKOFRWHDB-AUCIZUAGSA-N</td>\n",
       "      <td>{'name': 'Organic compounds', 'description': '...</td>\n",
       "      <td>{'name': 'Lipids and lipid-like molecules', 'd...</td>\n",
       "      <td>{'name': 'Glycerolipids', 'description': 'Lipi...</td>\n",
       "      <td>{'name': 'Triradylcglycerols', 'description': ...</td>\n",
       "      <td>[]</td>\n",
       "      <td>{'name': 'Triacylglycerols', 'description': 'G...</td>\n",
       "      <td>[{'name': 'Tricarboxylic acids and derivatives...</td>\n",
       "      <td>Aliphatic acyclic compounds</td>\n",
       "      <td>[Triacyl-sn-glycerol, Tricarboxylic acid or de...</td>\n",
       "      <td>This compound belongs to the class of organic ...</td>\n",
       "      <td>[]</td>\n",
       "      <td>[Carbonyl compounds, Carboxylic acid derivativ...</td>\n",
       "      <td>[carbonyl compound (CHEBI:36586), fatty acid e...</td>\n",
       "      <td>[Fatty esters (FA07), Triacylglycerols (GL0301...</td>\n",
       "      <td>2.1</td>\n",
       "      <td>NEUKLKKOFRWHDB-AUCIZUAGSA-N</td>\n",
       "    </tr>\n",
       "    <tr>\n",
       "      <th>13</th>\n",
       "      <td>CCCCCCCCCCCCCCCCOC[C@@H](CO)OC(=O)CCCCCCC\\C=C/...</td>\n",
       "      <td>InChIKey=ZDRGKGZHXIWXJD-QJEXQQAGSA-N</td>\n",
       "      <td>{'name': 'Organic compounds', 'description': '...</td>\n",
       "      <td>{'name': 'Lipids and lipid-like molecules', 'd...</td>\n",
       "      <td>{'name': 'Glycerolipids', 'description': 'Lipi...</td>\n",
       "      <td>{'name': 'Diradylglycerols', 'description': 'G...</td>\n",
       "      <td>[]</td>\n",
       "      <td>{'name': '1-alkyl,2-acylglycerols', 'descripti...</td>\n",
       "      <td>[{'name': 'Glycerol ethers', 'description': 'L...</td>\n",
       "      <td>Aliphatic acyclic compounds</td>\n",
       "      <td>[1-alkyl,2-acylglycerol, Fatty acid ester, Gly...</td>\n",
       "      <td>This compound belongs to the class of organic ...</td>\n",
       "      <td>[]</td>\n",
       "      <td>[1-alkyl,2-acylglycerols, Alcohols and polyols...</td>\n",
       "      <td>[glycerol ether (CHEBI:24353), fatty acid este...</td>\n",
       "      <td>[Fatty esters (FA07), 1-alkyl,2-acylglycerols ...</td>\n",
       "      <td>2.1</td>\n",
       "      <td>ZDRGKGZHXIWXJD-QJEXQQAGSA-N</td>\n",
       "    </tr>\n",
       "    <tr>\n",
       "      <th>14</th>\n",
       "      <td>CCCCCCCCCCCCCCCCCC(=O)OC[C@H](COC(=O)CCC)OC(=O...</td>\n",
       "      <td>InChIKey=XFFRLQGZYVVLQI-FAIXQHPJSA-N</td>\n",
       "      <td>{'name': 'Organic compounds', 'description': '...</td>\n",
       "      <td>{'name': 'Lipids and lipid-like molecules', 'd...</td>\n",
       "      <td>{'name': 'Glycerolipids', 'description': 'Lipi...</td>\n",
       "      <td>{'name': 'Triradylcglycerols', 'description': ...</td>\n",
       "      <td>[]</td>\n",
       "      <td>{'name': 'Triacylglycerols', 'description': 'G...</td>\n",
       "      <td>[{'name': 'Tricarboxylic acids and derivatives...</td>\n",
       "      <td>Aliphatic acyclic compounds</td>\n",
       "      <td>[Triacyl-sn-glycerol, Tricarboxylic acid or de...</td>\n",
       "      <td>This compound belongs to the class of organic ...</td>\n",
       "      <td>[]</td>\n",
       "      <td>[Carbonyl compounds, Carboxylic acid derivativ...</td>\n",
       "      <td>[carbonyl compound (CHEBI:36586), fatty acid e...</td>\n",
       "      <td>[Fatty esters (FA07), Triacylglycerols (GL0301...</td>\n",
       "      <td>2.1</td>\n",
       "      <td>XFFRLQGZYVVLQI-FAIXQHPJSA-N</td>\n",
       "    </tr>\n",
       "    <tr>\n",
       "      <th>15</th>\n",
       "      <td>[H][C@](COC(=O)CCCCCCCCCCCCC)(COC(=O)CCC\\C=C/C...</td>\n",
       "      <td>InChIKey=FKJNKIIHHYXTFQ-SUNRTHERSA-N</td>\n",
       "      <td>{'name': 'Organic compounds', 'description': '...</td>\n",
       "      <td>{'name': 'Lipids and lipid-like molecules', 'd...</td>\n",
       "      <td>{'name': 'Glycerolipids', 'description': 'Lipi...</td>\n",
       "      <td>{'name': 'Triradylcglycerols', 'description': ...</td>\n",
       "      <td>[]</td>\n",
       "      <td>{'name': 'Triacylglycerols', 'description': 'G...</td>\n",
       "      <td>[{'name': 'Tricarboxylic acids and derivatives...</td>\n",
       "      <td>Aliphatic acyclic compounds</td>\n",
       "      <td>[Triacyl-sn-glycerol, Tricarboxylic acid or de...</td>\n",
       "      <td>This compound belongs to the class of organic ...</td>\n",
       "      <td>[]</td>\n",
       "      <td>[Carbonyl compounds, Carboxylic acid derivativ...</td>\n",
       "      <td>[carbonyl compound (CHEBI:36586), fatty acid e...</td>\n",
       "      <td>[Fatty esters (FA07), Triacylglycerols (GL0301...</td>\n",
       "      <td>2.1</td>\n",
       "      <td>FKJNKIIHHYXTFQ-SUNRTHERSA-N</td>\n",
       "    </tr>\n",
       "    <tr>\n",
       "      <th>16</th>\n",
       "      <td>CCCCCCCCCCCCCCC(=O)OC[C@@H](COC(=O)CCCCCCC\\C=C...</td>\n",
       "      <td>InChIKey=JLZYFORTRUGDQW-YVCFFHMXSA-N</td>\n",
       "      <td>{'name': 'Organic compounds', 'description': '...</td>\n",
       "      <td>{'name': 'Lipids and lipid-like molecules', 'd...</td>\n",
       "      <td>{'name': 'Glycerolipids', 'description': 'Lipi...</td>\n",
       "      <td>{'name': 'Triradylcglycerols', 'description': ...</td>\n",
       "      <td>[]</td>\n",
       "      <td>{'name': 'Triacylglycerols', 'description': 'G...</td>\n",
       "      <td>[{'name': 'Tricarboxylic acids and derivatives...</td>\n",
       "      <td>Aliphatic acyclic compounds</td>\n",
       "      <td>[Triacyl-sn-glycerol, Tricarboxylic acid or de...</td>\n",
       "      <td>This compound belongs to the class of organic ...</td>\n",
       "      <td>[{'source': 'LIPID MAPS', 'source_id': 'LMGL03...</td>\n",
       "      <td>[Carbonyl compounds, Carboxylic acid derivativ...</td>\n",
       "      <td>[carbonyl compound (CHEBI:36586), fatty acid e...</td>\n",
       "      <td>[Fatty esters (FA07), Triacylglycerols (GL0301...</td>\n",
       "      <td>2.1</td>\n",
       "      <td>JLZYFORTRUGDQW-YVCFFHMXSA-N</td>\n",
       "    </tr>\n",
       "    <tr>\n",
       "      <th>17</th>\n",
       "      <td>CCCCCCCCCCCCCC(=O)OC[C@@H](COC(=O)CCCCC\\C=C/C\\...</td>\n",
       "      <td>InChIKey=GBRCKWHNYQTJKH-NXHCNWFISA-N</td>\n",
       "      <td>{'name': 'Organic compounds', 'description': '...</td>\n",
       "      <td>{'name': 'Lipids and lipid-like molecules', 'd...</td>\n",
       "      <td>{'name': 'Glycerolipids', 'description': 'Lipi...</td>\n",
       "      <td>{'name': 'Triradylcglycerols', 'description': ...</td>\n",
       "      <td>[]</td>\n",
       "      <td>{'name': 'Triacylglycerols', 'description': 'G...</td>\n",
       "      <td>[{'name': 'Tricarboxylic acids and derivatives...</td>\n",
       "      <td>Aliphatic acyclic compounds</td>\n",
       "      <td>[Triacyl-sn-glycerol, Tricarboxylic acid or de...</td>\n",
       "      <td>This compound belongs to the class of organic ...</td>\n",
       "      <td>[]</td>\n",
       "      <td>[Carbonyl compounds, Carboxylic acid derivativ...</td>\n",
       "      <td>[carbonyl compound (CHEBI:36586), fatty acid e...</td>\n",
       "      <td>[Fatty esters (FA07), Triacylglycerols (GL0301...</td>\n",
       "      <td>2.1</td>\n",
       "      <td>GBRCKWHNYQTJKH-NXHCNWFISA-N</td>\n",
       "    </tr>\n",
       "    <tr>\n",
       "      <th>18</th>\n",
       "      <td>[H][C@](COC(=O)CCCCCCCCCCCCCC)(COC(=O)CCCCCCCC...</td>\n",
       "      <td>InChIKey=XZOUIUJOUOGCSM-OLSVMMKASA-N</td>\n",
       "      <td>{'name': 'Organic compounds', 'description': '...</td>\n",
       "      <td>{'name': 'Lipids and lipid-like molecules', 'd...</td>\n",
       "      <td>{'name': 'Glycerolipids', 'description': 'Lipi...</td>\n",
       "      <td>{'name': 'Triradylcglycerols', 'description': ...</td>\n",
       "      <td>[]</td>\n",
       "      <td>{'name': 'Triacylglycerols', 'description': 'G...</td>\n",
       "      <td>[{'name': 'Tricarboxylic acids and derivatives...</td>\n",
       "      <td>Aliphatic acyclic compounds</td>\n",
       "      <td>[Triacyl-sn-glycerol, Tricarboxylic acid or de...</td>\n",
       "      <td>This compound belongs to the class of organic ...</td>\n",
       "      <td>[]</td>\n",
       "      <td>[Carbonyl compounds, Carboxylic acid derivativ...</td>\n",
       "      <td>[carbonyl compound (CHEBI:36586), fatty acid e...</td>\n",
       "      <td>[Fatty esters (FA07), Triacylglycerols (GL0301...</td>\n",
       "      <td>2.1</td>\n",
       "      <td>XZOUIUJOUOGCSM-OLSVMMKASA-N</td>\n",
       "    </tr>\n",
       "  </tbody>\n",
       "</table>\n",
       "</div>"
      ],
      "text/plain": [
       "                                               smiles  \\\n",
       "0   COC(=O)CC[C@@H](C)[C@H]1C[C@@H](O)[C@H]2[C@@H]...   \n",
       "1   C[C@H](CCC(=O)NCCS(O)(=O)=O)[C@H]1CC[C@H]2[C@H...   \n",
       "2   CC(CCC(=O)NC(CCCCN)C(O)=O)C1CCC2C3C(O)CC4CC(O)...   \n",
       "3   CC(CCCNCC(O)=O)C1CCC2C3CCC4CC(O)CCC4(C)C3CC(O)...   \n",
       "4   CCCCCCCCCCCCCCCCOCC(COP([O-])(=O)OCC[N+](C)(C)...   \n",
       "5   CC(CCC(=O)NC(CC1=CNC2=CC=CC=C12)C(O)=O)C1CCC2C...   \n",
       "6   [Fe].CC(O)N(O)CCCC1NC(=O)C(CCCN(O)C(C)O)NC(=O)...   \n",
       "7   COC1=CC=C(CC2C3=CC(O)=C(OC)C=C3CC[N]2(C)[O-])C...   \n",
       "8   CC1OC(=NC1C(=O)NCCCNC(=O)c1cccc(O)c1O)c1cccc(O...   \n",
       "9   CC1=CC2=C(OC(=N2)C2=CC(NC(=O)C3=C(Cl)C(Cl)=CC=...   \n",
       "10  [H]OC(=NC([H])(C(O[H])=NC1([H])C(O[H])=NC([H])...   \n",
       "11  CCCCCCCCCCCCCCCCOC(COC(=O)CCCCCCCCCCCCCCC)COP(...   \n",
       "12  CCCCCCCCCCCCCC(=O)OC[C@@H](COC(=O)CCCCCCCCC\\C=...   \n",
       "13  CCCCCCCCCCCCCCCCOC[C@@H](CO)OC(=O)CCCCCCC\\C=C/...   \n",
       "14  CCCCCCCCCCCCCCCCCC(=O)OC[C@H](COC(=O)CCC)OC(=O...   \n",
       "15  [H][C@](COC(=O)CCCCCCCCCCCCC)(COC(=O)CCC\\C=C/C...   \n",
       "16  CCCCCCCCCCCCCCC(=O)OC[C@@H](COC(=O)CCCCCCC\\C=C...   \n",
       "17  CCCCCCCCCCCCCC(=O)OC[C@@H](COC(=O)CCCCC\\C=C/C\\...   \n",
       "18  [H][C@](COC(=O)CCCCCCCCCCCCCC)(COC(=O)CCCCCCCC...   \n",
       "\n",
       "                                inchikey  \\\n",
       "0   InChIKey=GNGSNCPQCZJNBI-VAYFVJFHSA-N   \n",
       "1   InChIKey=QNRIYEYAHVEGQJ-SWQVIYSDSA-N   \n",
       "2   InChIKey=FTOTVNJFGHCOCZ-UHFFFAOYSA-N   \n",
       "3   InChIKey=SJBHFAAZLAILHS-UHFFFAOYSA-N   \n",
       "4   InChIKey=MWTIGLPPQBNUFP-UHFFFAOYSA-N   \n",
       "5   InChIKey=UXWZMQPNSYWAHX-UHFFFAOYSA-N   \n",
       "6   InChIKey=MGFJVMMIYCGBBF-UHFFFAOYSA-N   \n",
       "7   InChIKey=ZTQNGKJCDYUACE-UHFFFAOYSA-N   \n",
       "8   InChIKey=QSJOEQXFYCTBSY-UHFFFAOYSA-N   \n",
       "9   InChIKey=GKFNHDBVWFEZCJ-UHFFFAOYSA-N   \n",
       "10  InChIKey=JAKXTPZLQBSVBB-UHFFFAOYSA-N   \n",
       "11  InChIKey=SVWBXNAUENUONE-UHFFFAOYSA-N   \n",
       "12  InChIKey=NEUKLKKOFRWHDB-AUCIZUAGSA-N   \n",
       "13  InChIKey=ZDRGKGZHXIWXJD-QJEXQQAGSA-N   \n",
       "14  InChIKey=XFFRLQGZYVVLQI-FAIXQHPJSA-N   \n",
       "15  InChIKey=FKJNKIIHHYXTFQ-SUNRTHERSA-N   \n",
       "16  InChIKey=JLZYFORTRUGDQW-YVCFFHMXSA-N   \n",
       "17  InChIKey=GBRCKWHNYQTJKH-NXHCNWFISA-N   \n",
       "18  InChIKey=XZOUIUJOUOGCSM-OLSVMMKASA-N   \n",
       "\n",
       "                                              kingdom  \\\n",
       "0   {'name': 'Organic compounds', 'description': '...   \n",
       "1   {'name': 'Organic compounds', 'description': '...   \n",
       "2   {'name': 'Organic compounds', 'description': '...   \n",
       "3   {'name': 'Organic compounds', 'description': '...   \n",
       "4   {'name': 'Organic compounds', 'description': '...   \n",
       "5   {'name': 'Organic compounds', 'description': '...   \n",
       "6   {'name': 'Organic compounds', 'description': '...   \n",
       "7   {'name': 'Organic compounds', 'description': '...   \n",
       "8   {'name': 'Organic compounds', 'description': '...   \n",
       "9   {'name': 'Organic compounds', 'description': '...   \n",
       "10  {'name': 'Organic compounds', 'description': '...   \n",
       "11  {'name': 'Organic compounds', 'description': '...   \n",
       "12  {'name': 'Organic compounds', 'description': '...   \n",
       "13  {'name': 'Organic compounds', 'description': '...   \n",
       "14  {'name': 'Organic compounds', 'description': '...   \n",
       "15  {'name': 'Organic compounds', 'description': '...   \n",
       "16  {'name': 'Organic compounds', 'description': '...   \n",
       "17  {'name': 'Organic compounds', 'description': '...   \n",
       "18  {'name': 'Organic compounds', 'description': '...   \n",
       "\n",
       "                                           superclass  \\\n",
       "0   {'name': 'Lipids and lipid-like molecules', 'd...   \n",
       "1   {'name': 'Lipids and lipid-like molecules', 'd...   \n",
       "2   {'name': 'Lipids and lipid-like molecules', 'd...   \n",
       "3   {'name': 'Lipids and lipid-like molecules', 'd...   \n",
       "4   {'name': 'Lipids and lipid-like molecules', 'd...   \n",
       "5   {'name': 'Lipids and lipid-like molecules', 'd...   \n",
       "6   {'name': 'Organic acids and derivatives', 'des...   \n",
       "7   {'name': 'Organoheterocyclic compounds', 'desc...   \n",
       "8   {'name': 'Benzenoids', 'description': 'Aromati...   \n",
       "9   {'name': 'Benzenoids', 'description': 'Aromati...   \n",
       "10  {'name': 'Organic acids and derivatives', 'des...   \n",
       "11  {'name': 'Lipids and lipid-like molecules', 'd...   \n",
       "12  {'name': 'Lipids and lipid-like molecules', 'd...   \n",
       "13  {'name': 'Lipids and lipid-like molecules', 'd...   \n",
       "14  {'name': 'Lipids and lipid-like molecules', 'd...   \n",
       "15  {'name': 'Lipids and lipid-like molecules', 'd...   \n",
       "16  {'name': 'Lipids and lipid-like molecules', 'd...   \n",
       "17  {'name': 'Lipids and lipid-like molecules', 'd...   \n",
       "18  {'name': 'Lipids and lipid-like molecules', 'd...   \n",
       "\n",
       "                                                class  \\\n",
       "0   {'name': 'Steroids and steroid derivatives', '...   \n",
       "1   {'name': 'Steroids and steroid derivatives', '...   \n",
       "2   {'name': 'Steroids and steroid derivatives', '...   \n",
       "3   {'name': 'Steroids and steroid derivatives', '...   \n",
       "4   {'name': 'Glycerophospholipids', 'description'...   \n",
       "5   {'name': 'Steroids and steroid derivatives', '...   \n",
       "6   {'name': 'Carboxylic acids and derivatives', '...   \n",
       "7   {'name': 'Isoquinolines and derivatives', 'des...   \n",
       "8   {'name': 'Benzene and substituted derivatives'...   \n",
       "9   {'name': 'Benzene and substituted derivatives'...   \n",
       "10  {'name': 'Peptidomimetics', 'description': 'Co...   \n",
       "11  {'name': 'Glycerophospholipids', 'description'...   \n",
       "12  {'name': 'Glycerolipids', 'description': 'Lipi...   \n",
       "13  {'name': 'Glycerolipids', 'description': 'Lipi...   \n",
       "14  {'name': 'Glycerolipids', 'description': 'Lipi...   \n",
       "15  {'name': 'Glycerolipids', 'description': 'Lipi...   \n",
       "16  {'name': 'Glycerolipids', 'description': 'Lipi...   \n",
       "17  {'name': 'Glycerolipids', 'description': 'Lipi...   \n",
       "18  {'name': 'Glycerolipids', 'description': 'Lipi...   \n",
       "\n",
       "                                             subclass  \\\n",
       "0   {'name': 'Bile acids, alcohols and derivatives...   \n",
       "1   {'name': 'Bile acids, alcohols and derivatives...   \n",
       "2   {'name': 'Bile acids, alcohols and derivatives...   \n",
       "3   {'name': 'Azasteroids and derivatives', 'descr...   \n",
       "4   {'name': 'Glycerophosphocholines', 'descriptio...   \n",
       "5   {'name': 'Bile acids, alcohols and derivatives...   \n",
       "6   {'name': 'Amino acids, peptides, and analogues...   \n",
       "7   {'name': 'Benzylisoquinolines', 'description':...   \n",
       "8   {'name': 'Benzoic acids and derivatives', 'des...   \n",
       "9   {'name': 'Anilides', 'description': 'Organic h...   \n",
       "10  {'name': 'Depsipeptides', 'description': 'Natu...   \n",
       "11  {'name': 'Glycerophosphocholines', 'descriptio...   \n",
       "12  {'name': 'Triradylcglycerols', 'description': ...   \n",
       "13  {'name': 'Diradylglycerols', 'description': 'G...   \n",
       "14  {'name': 'Triradylcglycerols', 'description': ...   \n",
       "15  {'name': 'Triradylcglycerols', 'description': ...   \n",
       "16  {'name': 'Triradylcglycerols', 'description': ...   \n",
       "17  {'name': 'Triradylcglycerols', 'description': ...   \n",
       "18  {'name': 'Triradylcglycerols', 'description': ...   \n",
       "\n",
       "                                   intermediate_nodes  \\\n",
       "0   [{'name': 'Hydroxy bile acids, alcohols and de...   \n",
       "1                                                  []   \n",
       "2                                                  []   \n",
       "3                                                  []   \n",
       "4                                                  []   \n",
       "5                                                  []   \n",
       "6   [{'name': 'Peptides', 'description': 'Compound...   \n",
       "7                                                  []   \n",
       "8   [{'name': 'Hydroxybenzoic acid derivatives', '...   \n",
       "9   [{'name': 'Aromatic anilides', 'description': ...   \n",
       "10                                                 []   \n",
       "11                                                 []   \n",
       "12                                                 []   \n",
       "13                                                 []   \n",
       "14                                                 []   \n",
       "15                                                 []   \n",
       "16                                                 []   \n",
       "17                                                 []   \n",
       "18                                                 []   \n",
       "\n",
       "                                        direct_parent  \\\n",
       "0   {'name': 'Trihydroxy bile acids, alcohols and ...   \n",
       "1   {'name': 'Taurinated bile acids and derivative...   \n",
       "2   {'name': 'Glycinated bile acids and derivative...   \n",
       "3   {'name': '25-azasteroids and derivatives', 'de...   \n",
       "4   {'name': 'Dialkylglycerol-3-phosphocholines', ...   \n",
       "5   {'name': 'Glycinated bile acids and derivative...   \n",
       "6   {'name': 'Oligopeptides', 'description': 'Orga...   \n",
       "7   {'name': 'Benzylisoquinolines', 'description':...   \n",
       "8   {'name': 'Salicylamides', 'description': 'Carb...   \n",
       "9   {'name': 'Benzanilides', 'description': 'Aroma...   \n",
       "10  {'name': 'Cyclic depsipeptides', 'description'...   \n",
       "11  {'name': '1-acyl,2-alkylglycero-3-phosphocholi...   \n",
       "12  {'name': 'Triacylglycerols', 'description': 'G...   \n",
       "13  {'name': '1-alkyl,2-acylglycerols', 'descripti...   \n",
       "14  {'name': 'Triacylglycerols', 'description': 'G...   \n",
       "15  {'name': 'Triacylglycerols', 'description': 'G...   \n",
       "16  {'name': 'Triacylglycerols', 'description': 'G...   \n",
       "17  {'name': 'Triacylglycerols', 'description': 'G...   \n",
       "18  {'name': 'Triacylglycerols', 'description': 'G...   \n",
       "\n",
       "                                  alternative_parents  \\\n",
       "0   [{'name': '7-hydroxysteroids', 'description': ...   \n",
       "1   [{'name': 'Monohydroxy bile acids, alcohols an...   \n",
       "2   [{'name': 'Trihydroxy bile acids, alcohols and...   \n",
       "3   [{'name': '3-hydroxysteroids', 'description': ...   \n",
       "4   [{'name': 'Phosphocholines', 'description': 'C...   \n",
       "5   [{'name': 'Trihydroxy bile acids, alcohols and...   \n",
       "6   [{'name': 'Cyclic peptides', 'description': 'C...   \n",
       "7   [{'name': 'Tetrahydroisoquinolines', 'descript...   \n",
       "8   [{'name': 'Alpha amino acids and derivatives',...   \n",
       "9   [{'name': 'Phenyl-1,3-oxazoles', 'description'...   \n",
       "10  [{'name': 'Macrolide lactams', 'description': ...   \n",
       "11  [{'name': 'Phosphocholines', 'description': 'C...   \n",
       "12  [{'name': 'Tricarboxylic acids and derivatives...   \n",
       "13  [{'name': 'Glycerol ethers', 'description': 'L...   \n",
       "14  [{'name': 'Tricarboxylic acids and derivatives...   \n",
       "15  [{'name': 'Tricarboxylic acids and derivatives...   \n",
       "16  [{'name': 'Tricarboxylic acids and derivatives...   \n",
       "17  [{'name': 'Tricarboxylic acids and derivatives...   \n",
       "18  [{'name': 'Tricarboxylic acids and derivatives...   \n",
       "\n",
       "                     molecular_framework  \\\n",
       "0     Aliphatic homopolycyclic compounds   \n",
       "1     Aliphatic homopolycyclic compounds   \n",
       "2     Aliphatic homopolycyclic compounds   \n",
       "3     Aliphatic homopolycyclic compounds   \n",
       "4            Aliphatic acyclic compounds   \n",
       "5    Aromatic heteropolycyclic compounds   \n",
       "6   Aliphatic heteromonocyclic compounds   \n",
       "7    Aromatic heteropolycyclic compounds   \n",
       "8    Aromatic heteromonocyclic compounds   \n",
       "9    Aromatic heteropolycyclic compounds   \n",
       "10  Aliphatic heteromonocyclic compounds   \n",
       "11           Aliphatic acyclic compounds   \n",
       "12           Aliphatic acyclic compounds   \n",
       "13           Aliphatic acyclic compounds   \n",
       "14           Aliphatic acyclic compounds   \n",
       "15           Aliphatic acyclic compounds   \n",
       "16           Aliphatic acyclic compounds   \n",
       "17           Aliphatic acyclic compounds   \n",
       "18           Aliphatic acyclic compounds   \n",
       "\n",
       "                                         substituents  \\\n",
       "0   [Trihydroxy bile acid, alcohol, or derivatives...   \n",
       "1   [Taurinated bile acid, Monohydroxy bile acid, ...   \n",
       "2   [Glycinated bile acid, Trihydroxy bile acid, a...   \n",
       "3   [25-azasteroid, Hydroxysteroid, 12-hydroxyster...   \n",
       "4   [Dialkylglycero-3-phosphocholine, Phosphocholi...   \n",
       "5   [Glycinated bile acid, Trihydroxy bile acid, a...   \n",
       "6   [Alpha-oligopeptide, Cyclic alpha peptide, Mac...   \n",
       "7   [Benzylisoquinoline, Tetrahydroisoquinoline, M...   \n",
       "8   [Alpha-amino acid or derivatives, Salicylamide...   \n",
       "9   [Benzanilide, Phenyl-1,3-oxazole, 2-halobenzoi...   \n",
       "10  [Cyclic depsipeptide, Macrolide lactam, Macrol...   \n",
       "11  [1-acyl,2-alkylglycero-3-phosphocholine, Phosp...   \n",
       "12  [Triacyl-sn-glycerol, Tricarboxylic acid or de...   \n",
       "13  [1-alkyl,2-acylglycerol, Fatty acid ester, Gly...   \n",
       "14  [Triacyl-sn-glycerol, Tricarboxylic acid or de...   \n",
       "15  [Triacyl-sn-glycerol, Tricarboxylic acid or de...   \n",
       "16  [Triacyl-sn-glycerol, Tricarboxylic acid or de...   \n",
       "17  [Triacyl-sn-glycerol, Tricarboxylic acid or de...   \n",
       "18  [Triacyl-sn-glycerol, Tricarboxylic acid or de...   \n",
       "\n",
       "                                          description  \\\n",
       "0   This compound belongs to the class of organic ...   \n",
       "1   This compound belongs to the class of organic ...   \n",
       "2   This compound belongs to the class of organic ...   \n",
       "3   This compound belongs to the class of organic ...   \n",
       "4   This compound belongs to the class of organic ...   \n",
       "5   This compound belongs to the class of organic ...   \n",
       "6   This compound belongs to the class of organic ...   \n",
       "7   This compound belongs to the class of organic ...   \n",
       "8   This compound belongs to the class of organic ...   \n",
       "9   This compound belongs to the class of organic ...   \n",
       "10  This compound belongs to the class of organic ...   \n",
       "11  This compound belongs to the class of organic ...   \n",
       "12  This compound belongs to the class of organic ...   \n",
       "13  This compound belongs to the class of organic ...   \n",
       "14  This compound belongs to the class of organic ...   \n",
       "15  This compound belongs to the class of organic ...   \n",
       "16  This compound belongs to the class of organic ...   \n",
       "17  This compound belongs to the class of organic ...   \n",
       "18  This compound belongs to the class of organic ...   \n",
       "\n",
       "                                 external_descriptors  \\\n",
       "0                                                  []   \n",
       "1                                                  []   \n",
       "2                                                  []   \n",
       "3                                                  []   \n",
       "4                                                  []   \n",
       "5                                                  []   \n",
       "6                                                  []   \n",
       "7                                                  []   \n",
       "8                                                  []   \n",
       "9                                                  []   \n",
       "10                                                 []   \n",
       "11                                                 []   \n",
       "12                                                 []   \n",
       "13                                                 []   \n",
       "14                                                 []   \n",
       "15                                                 []   \n",
       "16  [{'source': 'LIPID MAPS', 'source_id': 'LMGL03...   \n",
       "17                                                 []   \n",
       "18                                                 []   \n",
       "\n",
       "                                            ancestors  \\\n",
       "0   [3-alpha-hydroxysteroids, 3-hydroxysteroids, 7...   \n",
       "1   [3-alpha-hydroxysteroids, 3-hydroxysteroids, 7...   \n",
       "2   [12-hydroxysteroids, 3-hydroxysteroids, 7-hydr...   \n",
       "3   [12-hydroxysteroids, 25-azasteroids and deriva...   \n",
       "4   [Alkyl phosphates, Amines, Chemical entities, ...   \n",
       "5   [12-hydroxysteroids, 3-alkylindoles, 3-hydroxy...   \n",
       "6   [Alkanolamines, Alpha amino acids and derivati...   \n",
       "7   [1-hydroxy-2-unsubstituted benzenoids, 1-hydro...   \n",
       "8   [1-hydroxy-2-unsubstituted benzenoids, 1-hydro...   \n",
       "9   [2-halobenzoic acids and derivatives, 3-halobe...   \n",
       "10  [Alcohols and polyols, Alkanesulfonic acids, A...   \n",
       "11  [1-acyl,2-alkylglycero-3-phosphocholines, Alky...   \n",
       "12  [Carbonyl compounds, Carboxylic acid derivativ...   \n",
       "13  [1-alkyl,2-acylglycerols, Alcohols and polyols...   \n",
       "14  [Carbonyl compounds, Carboxylic acid derivativ...   \n",
       "15  [Carbonyl compounds, Carboxylic acid derivativ...   \n",
       "16  [Carbonyl compounds, Carboxylic acid derivativ...   \n",
       "17  [Carbonyl compounds, Carboxylic acid derivativ...   \n",
       "18  [Carbonyl compounds, Carboxylic acid derivativ...   \n",
       "\n",
       "                                predicted_chebi_terms  \\\n",
       "0   [7-hydroxy steroid (CHEBI:36844), 3alpha-hydro...   \n",
       "1   [bile acid (CHEBI:3098), 7-oxo steroid (CHEBI:...   \n",
       "2   [bile acid (CHEBI:3098), 7-hydroxy steroid (CH...   \n",
       "3   [3-hydroxy steroid (CHEBI:36834), 12-hydroxy s...   \n",
       "4   [phosphocholines (CHEBI:36700), glycerol ether...   \n",
       "5   [bile acid (CHEBI:3098), 7-hydroxy steroid (CH...   \n",
       "6   [cyclic peptide (CHEBI:23449), azamacrocycle (...   \n",
       "7   [isoquinolines (CHEBI:24922), methoxybenzene (...   \n",
       "8   [organonitrogen compound (CHEBI:35352), organo...   \n",
       "9   [benzenes (CHEBI:22712), oxazole (CHEBI:35790)...   \n",
       "10  [lactam (CHEBI:24995), macrolide (CHEBI:25106)...   \n",
       "11  [phosphocholines (CHEBI:36700), glycerol ether...   \n",
       "12  [carbonyl compound (CHEBI:36586), fatty acid e...   \n",
       "13  [glycerol ether (CHEBI:24353), fatty acid este...   \n",
       "14  [carbonyl compound (CHEBI:36586), fatty acid e...   \n",
       "15  [carbonyl compound (CHEBI:36586), fatty acid e...   \n",
       "16  [carbonyl compound (CHEBI:36586), fatty acid e...   \n",
       "17  [carbonyl compound (CHEBI:36586), fatty acid e...   \n",
       "18  [carbonyl compound (CHEBI:36586), fatty acid e...   \n",
       "\n",
       "                            predicted_lipidmaps_terms classification_version  \\\n",
       "0   [Sterol Lipids (ST), Fatty esters (FA07), Bile...                    2.1   \n",
       "1   [Bile acids and derivatives (ST04), Sterol Lip...                    2.1   \n",
       "2   [Bile acids and derivatives (ST04), Sterol Lip...                    2.1   \n",
       "3                                [Sterol Lipids (ST)]                    2.1   \n",
       "4   [Dialkylglycerophosphocholines (GP0104), Glyce...                    2.1   \n",
       "5   [Bile acids and derivatives (ST04), Sterol Lip...                    2.1   \n",
       "6                                                  []                    2.1   \n",
       "7                                                  []                    2.1   \n",
       "8                                                  []                    2.1   \n",
       "9                                                  []                    2.1   \n",
       "10                                                 []                    2.1   \n",
       "11  [Fatty esters (FA07), Glycerophosphocholines (...                    2.1   \n",
       "12  [Fatty esters (FA07), Triacylglycerols (GL0301...                    2.1   \n",
       "13  [Fatty esters (FA07), 1-alkyl,2-acylglycerols ...                    2.1   \n",
       "14  [Fatty esters (FA07), Triacylglycerols (GL0301...                    2.1   \n",
       "15  [Fatty esters (FA07), Triacylglycerols (GL0301...                    2.1   \n",
       "16  [Fatty esters (FA07), Triacylglycerols (GL0301...                    2.1   \n",
       "17  [Fatty esters (FA07), Triacylglycerols (GL0301...                    2.1   \n",
       "18  [Fatty esters (FA07), Triacylglycerols (GL0301...                    2.1   \n",
       "\n",
       "                       original  \n",
       "0   GNGSNCPQCZJNBI-VAYFVJFHSA-N  \n",
       "1   QNRIYEYAHVEGQJ-SWQVIYSDSA-N  \n",
       "2   FTOTVNJFGHCOCZ-ZOXBSTLDSA-N  \n",
       "3   SJBHFAAZLAILHS-XFOSWZMQNA-N  \n",
       "4   MWTIGLPPQBNUFP-RRHRGVEJNA-N  \n",
       "5   UXWZMQPNSYWAHX-VQUKNVSGSA-N  \n",
       "6   MGFJVMMIYCGBBF-DOLKRJOSNA-N  \n",
       "7   ZTQNGKJCDYUACE-OAHLLOKONA-N  \n",
       "8   QSJOEQXFYCTBSY-HDXKHDETNA-N  \n",
       "9   GKFNHDBVWFEZCJ-LQFNOIFHNA-N  \n",
       "10  JAKXTPZLQBSVBB-AEDMQFBUNA-N  \n",
       "11  SVWBXNAUENUONE-LDLOPFEMNA-N  \n",
       "12  NEUKLKKOFRWHDB-AUCIZUAGSA-N  \n",
       "13  ZDRGKGZHXIWXJD-QJEXQQAGSA-N  \n",
       "14  XFFRLQGZYVVLQI-FAIXQHPJSA-N  \n",
       "15  FKJNKIIHHYXTFQ-SUNRTHERSA-N  \n",
       "16  JLZYFORTRUGDQW-YVCFFHMXSA-N  \n",
       "17  GBRCKWHNYQTJKH-NXHCNWFISA-N  \n",
       "18  XZOUIUJOUOGCSM-OLSVMMKASA-N  "
      ]
     },
     "execution_count": 444,
     "metadata": {},
     "output_type": "execute_result"
    }
   ],
   "source": []
  },
  {
   "cell_type": "code",
   "execution_count": null,
   "metadata": {},
   "outputs": [],
   "source": []
  }
 ],
 "metadata": {
  "kernelspec": {
   "display_name": "Python 3",
   "language": "python",
   "name": "python3"
  },
  "language_info": {
   "codemirror_mode": {
    "name": "ipython",
    "version": 3
   },
   "file_extension": ".py",
   "mimetype": "text/x-python",
   "name": "python",
   "nbconvert_exporter": "python",
   "pygments_lexer": "ipython3",
   "version": "3.7.7"
  },
  "varInspector": {
   "cols": {
    "lenName": 16,
    "lenType": 16,
    "lenVar": 40
   },
   "kernels_config": {
    "python": {
     "delete_cmd_postfix": "",
     "delete_cmd_prefix": "del ",
     "library": "var_list.py",
     "varRefreshCmd": "print(var_dic_list())"
    },
    "r": {
     "delete_cmd_postfix": ") ",
     "delete_cmd_prefix": "rm(",
     "library": "var_list.r",
     "varRefreshCmd": "cat(var_dic_list()) "
    }
   },
   "types_to_exclude": [
    "module",
    "function",
    "builtin_function_or_method",
    "instance",
    "_Feature"
   ],
   "window_display": false
  }
 },
 "nbformat": 4,
 "nbformat_minor": 4
}
